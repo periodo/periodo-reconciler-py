{
 "cells": [
  {
   "cell_type": "code",
   "execution_count": 1,
   "metadata": {},
   "outputs": [],
   "source": [
    "import csv\n",
    "from collections import OrderedDict\n",
    "\n",
    "from periodo_reconciler import (\n",
    "    RProperty,\n",
    "    RQuery,\n",
    "    PeriodoReconciler,\n",
    "    CsvReconciler\n",
    ")\n"
   ]
  },
  {
   "cell_type": "markdown",
   "metadata": {},
   "source": [
    "# simple example"
   ]
  },
  {
   "cell_type": "code",
   "execution_count": 2,
   "metadata": {
    "collapsed": true
   },
   "outputs": [],
   "source": [
    "import os\n",
    "\n",
    "def output_path_name(inpath):\n",
    "    (basename, fext) = os.path.splitext(inpath)\n",
    "\n",
    "    return basename + '-recon' + fext\n",
    "    return output_fname\n"
   ]
  },
  {
   "cell_type": "code",
   "execution_count": 3,
   "metadata": {
    "collapsed": true
   },
   "outputs": [],
   "source": [
    "csv_path = \"../test-data/periodo_simple_example.csv\""
   ]
  },
  {
   "cell_type": "code",
   "execution_count": 4,
   "metadata": {},
   "outputs": [],
   "source": [
    "class CsvReconciler2(CsvReconciler):\n",
    "    def to_csv(self, csvfile, rows, fieldnames=None):\n",
    "        if fieldnames is None:\n",
    "            fieldnames = self.reader.fieldnames + ['match_num', 'match_name', 'match_id']\n",
    "\n",
    "        writer = csv.DictWriter(csvfile, fieldnames=fieldnames)\n",
    "\n",
    "        writer.writeheader()\n",
    "        for row in rows:\n",
    "            writer.writerow(row)\n"
   ]
  },
  {
   "cell_type": "code",
   "execution_count": 5,
   "metadata": {},
   "outputs": [],
   "source": [
    "import contextlib\n",
    "\n",
    "# https://stackoverflow.com/a/19412700/7782\n",
    "with contextlib.ExitStack() as stack:\n",
    "    csvfile = stack.enter_context(open(csv_path))\n",
    "    outputfile = stack.enter_context(open(output_path_name(csv_path), \"w\"))                  \n",
    "   \n",
    "    p_recon = PeriodoReconciler(host='localhost:8142')\n",
    "    c_recon = CsvReconciler(csvfile, p_recon, 'query', 'location', 'start', 'end')\n",
    "    c_recon.to_csv(outputfile, c_recon.matches())\n",
    "\n"
   ]
  }
 ],
 "metadata": {
  "kernelspec": {
   "display_name": "Python 3",
   "language": "python",
   "name": "python3"
  },
  "language_info": {
   "codemirror_mode": {
    "name": "ipython",
    "version": 3
   },
   "file_extension": ".py",
   "mimetype": "text/x-python",
   "name": "python",
   "nbconvert_exporter": "python",
   "pygments_lexer": "ipython3",
   "version": "3.6.2"
  }
 },
 "nbformat": 4,
 "nbformat_minor": 2
}
