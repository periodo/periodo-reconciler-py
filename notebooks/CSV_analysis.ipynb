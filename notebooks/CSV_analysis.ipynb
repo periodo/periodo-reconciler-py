{
 "cells": [
  {
   "cell_type": "code",
   "execution_count": 13,
   "metadata": {
    "collapsed": true
   },
   "outputs": [],
   "source": [
    "import csv\n",
    "import contextlib\n",
    "import os, errno\n",
    "from collections import OrderedDict, Counter\n",
    "\n",
    "from IPython.core.display import display, HTML\n",
    "\n",
    "from pandas import DataFrame\n",
    "\n",
    "\n",
    "from periodo_reconciler import (\n",
    "    RProperty,\n",
    "    RQuery,\n",
    "    PeriodoReconciler,\n",
    "    CsvReconciler\n",
    ")"
   ]
  },
  {
   "cell_type": "code",
   "execution_count": 14,
   "metadata": {
    "collapsed": true
   },
   "outputs": [],
   "source": [
    "def output_path_name(inpath, test_data_dir=\"../test-data/\",\n",
    "                     test_output_dir=\"../test-output/\"):\n",
    "    \"\"\"\n",
    "    given a path in the test directory, return the path for corresponding output in the test output dir\n",
    "    \"\"\"\n",
    " \n",
    "    return os.path.join(test_output_dir, os.path.relpath(inpath, start=test_data_dir))\n",
    "\n",
    "def makedirs_for_path(fpath):\n",
    "    \"\"\"\n",
    "    make sure that the directory for fpath exists\n",
    "    \"\"\"\n",
    "    \n",
    "    (fdir, fname) = os.path.split(fpath)\n",
    "    try:\n",
    "        os.makedirs(fdir)\n",
    "    except OSError as e:\n",
    "        if e.errno != errno.EEXIST:\n",
    "            raise\n",
    "            \n",
    "    return True\n"
   ]
  },
  {
   "cell_type": "code",
   "execution_count": 15,
   "metadata": {
    "collapsed": true
   },
   "outputs": [],
   "source": [
    "def reconcile_to_csv_df(csv_path, kw, p_recon):\n",
    "    \"\"\"\n",
    "    Inputs:  \n",
    "    csv_path: the path of the csv file to reconcile\n",
    "    kw: a dict holding the query, location, start, stop fields\n",
    "    p_recon: a PeriodoReconciler object\n",
    "    \n",
    "    Side-effect:\n",
    "    * a csv file with the matches in the output directory\n",
    "    * returns a Pandas DataFrame holding the input data along with match data\n",
    "    \n",
    "    \"\"\"\n",
    "\n",
    "    output_path = output_path_name(csv_path)\n",
    "    makedirs_for_path(output_path)\n",
    "    \n",
    "    # https://stackoverflow.com/a/19412700/7782\n",
    "    with contextlib.ExitStack() as stack:\n",
    "        csvfile = stack.enter_context(open(csv_path))\n",
    "        outputfile = stack.enter_context(open(output_path, \"w\"))                  \n",
    "\n",
    "        # p_recon = PeriodoReconciler(host='localhost:8142')\n",
    "        c_recon = CsvReconciler(csvfile, p_recon, **kw)\n",
    "\n",
    "        matches = list(c_recon.matches())\n",
    "\n",
    "        c_recon.to_csv(outputfile, matches)\n",
    "        df = DataFrame(matches)\n",
    "\n",
    "        return df\n"
   ]
  },
  {
   "cell_type": "markdown",
   "metadata": {},
   "source": [
    "# simple example"
   ]
  },
  {
   "cell_type": "code",
   "execution_count": 16,
   "metadata": {},
   "outputs": [
    {
     "data": {
      "text/plain": [
       "1    2\n",
       "0    1\n",
       "Name: match_num, dtype: int64"
      ]
     },
     "execution_count": 16,
     "metadata": {},
     "output_type": "execute_result"
    }
   ],
   "source": [
    "# simple example\n",
    "\n",
    "csv_path = \"../test-data/periodo_simple_example.csv\"\n",
    "kw = {\n",
    "   'location': 'location',\n",
    "   'query': 'query',\n",
    "   'start': 'start',\n",
    "   'stop': 'end'\n",
    "}\n",
    "\n",
    "p_recon = PeriodoReconciler(host='localhost:8142')\n",
    "df = reconcile_to_csv_df(csv_path, kw, p_recon)\n",
    "\n",
    "df.match_num.value_counts()"
   ]
  },
  {
   "cell_type": "markdown",
   "metadata": {},
   "source": [
    "# OpenContext examples"
   ]
  },
  {
   "cell_type": "code",
   "execution_count": 17,
   "metadata": {
    "collapsed": true
   },
   "outputs": [],
   "source": [
    "# the list of OpenContext CSV files along with the columns to be fed to the reconciler\n",
    "\n",
    "OPENCONTEXT_TEST_FILES = [{'csv_path': '../test-data/OpenContext/Cyprus PKAP Survey - open-context-pkap-dates.csv',\n",
    "  'kw': {'location': 'Context (1)',\n",
    "   'query': 'Period',\n",
    "   'start': 'Early BCE/CE',\n",
    "   'stop': 'Late BCE/CE'}},\n",
    " {'csv_path': '../test-data/OpenContext/European Cattle with Periods - open-context-europe-cattle.csv',\n",
    "  'kw': {'location': 'Context (1)',\n",
    "   'query': 'Period',\n",
    "   'start': 'Early BCE/CE',\n",
    "   'stop': 'Late BCE/CE'}},\n",
    " {'csv_path': '../test-data/OpenContext/Petra Artifacts - open-context-petra.csv',\n",
    "  'kw': {'location': 'Context (1)',\n",
    "   'query': 'Culture',\n",
    "   'start': 'Early BCE/CE',\n",
    "   'stop': 'Late BCE/CE'}}]\n",
    "\n",
    "\n",
    "kw_map = dict([(f['csv_path'], f['kw']) for f in OPENCONTEXT_TEST_FILES])"
   ]
  },
  {
   "cell_type": "code",
   "execution_count": 18,
   "metadata": {},
   "outputs": [
    {
     "name": "stdout",
     "output_type": "stream",
     "text": [
      "periodo-reconciler-py --location=\"Context (1)\" --query=\"Period\" --start=\"Early BCE/CE\" --stop=\"Late BCE/CE\" \"../test-data/OpenContext/Cyprus PKAP Survey - open-context-pkap-dates.csv\" -\n",
      "periodo-reconciler-py --location=\"Context (1)\" --query=\"Period\" --start=\"Early BCE/CE\" --stop=\"Late BCE/CE\" \"../test-data/OpenContext/European Cattle with Periods - open-context-europe-cattle.csv\" -\n",
      "periodo-reconciler-py --location=\"Context (1)\" --query=\"Culture\" --start=\"Early BCE/CE\" --stop=\"Late BCE/CE\" \"../test-data/OpenContext/Petra Artifacts - open-context-petra.csv\" -\n"
     ]
    }
   ],
   "source": [
    "# write out incantation for the command line CSV reconciler\n",
    "\n",
    "\n",
    "for f in OPENCONTEXT_TEST_FILES:\n",
    "    options_from_kw = \" \".join(['--{}=\"{}\"'.format(k,v) for (k,v) in f['kw'].items()])\n",
    "    print('periodo-reconciler-py {} \"{}\" -'.format(options_from_kw, f['csv_path'] ))"
   ]
  },
  {
   "cell_type": "code",
   "execution_count": 19,
   "metadata": {},
   "outputs": [
    {
     "name": "stdout",
     "output_type": "stream",
     "text": [
      "../test-data/OpenContext/Petra Artifacts - open-context-petra.csvext-europe-cattle.csv"
     ]
    }
   ],
   "source": [
    "matching_results = {}\n",
    "\n",
    "p_recon = PeriodoReconciler(host='localhost:8142')\n",
    "\n",
    "for file in OPENCONTEXT_TEST_FILES:\n",
    "    csv_path = file['csv_path']\n",
    "    kw = file['kw']\n",
    "    print (\"\\r{}\".format(csv_path), end='')\n",
    "    df = reconcile_to_csv_df(csv_path, kw, p_recon)\n",
    "    matching_results[csv_path] = df # df.match_num.value_counts()\n"
   ]
  },
  {
   "cell_type": "markdown",
   "metadata": {},
   "source": [
    "## rows matched vs not matched for each test file"
   ]
  },
  {
   "cell_type": "code",
   "execution_count": 20,
   "metadata": {},
   "outputs": [
    {
     "data": {
      "text/html": [
       "<table>\n",
       "<tr>\n",
       "    <th>path</th>\n",
       "    <th>matches</th>\n",
       "    <th>non-matches</th>\n",
       "</tr>\n",
       "<tr><td>../test-data/OpenContext/Cyprus PKAP Survey - open-context-pkap-dates.csv</td><td>159</td><td>8278</td></tr><tr><td>../test-data/OpenContext/European Cattle with Periods - open-context-europe-cattle.csv</td><td>11</td><td>5657</td></tr><tr><td>../test-data/OpenContext/Petra Artifacts - open-context-petra.csv</td><td>114</td><td>52373</td></tr>\n",
       "</table>"
      ],
      "text/plain": [
       "<IPython.core.display.HTML object>"
      ]
     },
     "metadata": {},
     "output_type": "display_data"
    }
   ],
   "source": [
    "\n",
    "rows_html = (\"\".join([\"<tr><td>{}</td><td>{}</td><td>{}</td></tr>\".format(\n",
    " csv_path, df.match_num.value_counts()[1], df.match_num.value_counts()[0])\n",
    "for (csv_path, df) in matching_results.items()]))\n",
    "\n",
    "\n",
    "html_ = \"\"\"<table>\n",
    "<tr>\n",
    "    <th>path</th>\n",
    "    <th>matches</th>\n",
    "    <th>non-matches</th>\n",
    "</tr>\n",
    "{}\n",
    "</table>\"\"\".format(rows_html)\n",
    "\n",
    "display(HTML(html_))"
   ]
  },
  {
   "cell_type": "markdown",
   "metadata": {},
   "source": [
    "## which combination of query/location/start/stop were matched?"
   ]
  },
  {
   "cell_type": "code",
   "execution_count": 21,
   "metadata": {},
   "outputs": [
    {
     "data": {
      "text/html": [
       "<table>\n",
       "<tr>\n",
       "    <th>path</th>\n",
       "    <th>query</th>\n",
       "    <th>location</th>\n",
       "    <th>start</th>\n",
       "    <th>stop</th>\n",
       "    <th>num of rows</th>\n",
       "    <th>match_id</th>\n",
       "    <th>match_name</th>\n",
       "</tr>\n",
       "<tr><td>../test-data/OpenContext/Cyprus PKAP Survey - open-context-pkap-dates.csv</td><td>Cypro-Archaic</td><td>Cyprus</td><td>-750</td>\n",
       "                      <td>-312</td><td>3</td><td>http://n2t.net/ark:/99152/p08m57h2cv3</td><td>Cypro-Archaic [Cyprus: -0749 to -0449]</td></tr><tr><td>../test-data/OpenContext/Cyprus PKAP Survey - open-context-pkap-dates.csv</td><td>Post-Prehistoric</td><td>Cyprus</td><td>-999</td>\n",
       "                      <td>-999</td><td>60</td><td>http://n2t.net/ark:/99152/p0dg76f98q7</td><td>Post-Prehistoric [Cyprus, Cyprus: -0998 to 2008]</td></tr><tr><td>../test-data/OpenContext/Cyprus PKAP Survey - open-context-pkap-dates.csv</td><td>Cypro-Archaic</td><td>Cyprus</td><td>-750</td>\n",
       "                      <td>-475</td><td>1</td><td>http://n2t.net/ark:/99152/p08m57h2cv3</td><td>Cypro-Archaic [Cyprus: -0749 to -0449]</td></tr><tr><td>../test-data/OpenContext/Cyprus PKAP Survey - open-context-pkap-dates.csv</td><td>Ancient-Medieval</td><td>Cyprus</td><td>-3500</td>\n",
       "                      <td>1570</td><td>92</td><td>http://n2t.net/ark:/99152/p0dg76fjh5t</td><td>Ancient-Medieval [Cyprus, Cyprus: -3499 to 1570]</td></tr><tr><td>../test-data/OpenContext/Cyprus PKAP Survey - open-context-pkap-dates.csv</td><td>Roman-Modern</td><td>Cyprus</td><td>-99</td>\n",
       "                      <td>-99</td><td>3</td><td>http://n2t.net/ark:/99152/p0dg76fd4wb</td><td>Roman-Modern [Cyprus, Cyprus: -0098 to 2008]</td></tr><tr><td>../test-data/OpenContext/European Cattle with Periods - open-context-europe-cattle.csv</td><td>Not determined</td><td>Spain</td><td>-1500</td>\n",
       "                      <td>-714</td><td>7</td><td>http://n2t.net/ark:/99152/p086kj9s4tx</td><td>Not Reported [Missouri, Missouri: 1950 to 1950]</td></tr><tr><td>../test-data/OpenContext/European Cattle with Periods - open-context-europe-cattle.csv</td><td>Not determined</td><td>Spain</td><td>-2000</td>\n",
       "                      <td>-714</td><td>2</td><td>http://n2t.net/ark:/99152/p086kj9s4tx</td><td>Not Reported [Missouri, Missouri: 1950 to 1950]</td></tr><tr><td>../test-data/OpenContext/European Cattle with Periods - open-context-europe-cattle.csv</td><td>Not determined</td><td>Italy</td><td>-9500</td>\n",
       "                      <td>1950</td><td>2</td><td>http://n2t.net/ark:/99152/p086kj9s4tx</td><td>Not Reported [Missouri, Missouri: 1950 to 1950]</td></tr><tr><td>../test-data/OpenContext/Petra Artifacts - open-context-petra.csv</td><td>Herodian</td><td>Jordan</td><td>-200</td>\n",
       "                      <td>360</td><td>4</td><td>http://n2t.net/ark:/99152/p0m63njw2xp</td><td>Herodian Period [Israel, Jordan, Israel, Jordan: -0037 to 0070]</td></tr><tr><td>../test-data/OpenContext/Petra Artifacts - open-context-petra.csv</td><td>Islamic</td><td>Jordan</td><td>-200</td>\n",
       "                      <td>360</td><td>93</td><td>http://n2t.net/ark:/99152/p044n254d9s</td><td>Medieval Islamic [South eastern Kazakhstan, Kazakhstan: 0750 to 1200]</td></tr><tr><td>../test-data/OpenContext/Petra Artifacts - open-context-petra.csv</td><td>Roman Provincial</td><td>Jordan</td><td>-200</td>\n",
       "                      <td>360</td><td>3</td><td>http://n2t.net/ark:/99152/p0gjgrsmhnc</td><td>Greek and Roman Provincial [United Kingdom, United Kingdom: -0699 to 0297]</td></tr><tr><td>../test-data/OpenContext/Petra Artifacts - open-context-petra.csv</td><td>Hasmonaean? or Herodian?</td><td>Jordan</td><td>-200</td>\n",
       "                      <td>360</td><td>1</td><td>http://n2t.net/ark:/99152/p0m63njw2xp</td><td>Herodian Period [Israel, Jordan, Israel, Jordan: -0037 to 0070]</td></tr><tr><td>../test-data/OpenContext/Petra Artifacts - open-context-petra.csv</td><td>Roman (Provincial?)</td><td>Jordan</td><td>-200</td>\n",
       "                      <td>360</td><td>2</td><td>http://n2t.net/ark:/99152/p0gjgrsmhnc</td><td>Greek and Roman Provincial [United Kingdom, United Kingdom: -0699 to 0297]</td></tr><tr><td>../test-data/OpenContext/Petra Artifacts - open-context-petra.csv</td><td>Roman (Provincial)?</td><td>Jordan</td><td>-200</td>\n",
       "                      <td>360</td><td>2</td><td>http://n2t.net/ark:/99152/p0gjgrsmhnc</td><td>Greek and Roman Provincial [United Kingdom, United Kingdom: -0699 to 0297]</td></tr><tr><td>../test-data/OpenContext/Petra Artifacts - open-context-petra.csv</td><td>other</td><td>Jordan</td><td>-200</td>\n",
       "                      <td>360</td><td>8</td><td>http://n2t.net/ark:/99152/p086kj9rhj9</td><td>Other [Missouri, Missouri: 1950 to 1950]</td></tr><tr><td>../test-data/OpenContext/Petra Artifacts - open-context-petra.csv</td><td>lb</td><td>Jordan</td><td>-200</td>\n",
       "                      <td>360</td><td>1</td><td>http://n2t.net/ark:/99152/p0m63njwrjx</td><td>Late Bronze Age [Turkey, Turkey: -1600 to -1200]</td></tr>\n",
       "</table>"
      ],
      "text/plain": [
       "<IPython.core.display.HTML object>"
      ]
     },
     "metadata": {},
     "output_type": "display_data"
    }
   ],
   "source": [
    "rows_html = []\n",
    "\n",
    "for (csv_path, df) in matching_results.items():\n",
    "    kw = kw_map[csv_path]\n",
    "    count = Counter(list(df.apply(lambda row: (row[kw['query']],\n",
    "                      row[kw['location']],\n",
    "                      row[kw['start']],\n",
    "                      row[kw['stop']],\n",
    "                      row['match_num'],\n",
    "                      row['match_id'],\n",
    "                      row['match_name']\n",
    "                     ), axis=1)))\n",
    "    \n",
    "    matching_items = [(k,c) for (k,c) in count.items() if k[4] > 0 ]\n",
    "\n",
    "    for (match, count) in matching_items:\n",
    "        row_html = \"\"\"<tr><td>{}</td><td>{}</td><td>{}</td><td>{}</td>\n",
    "                      <td>{}</td><td>{}</td><td>{}</td><td>{}</td></tr>\"\"\".format(\n",
    "             csv_path, match[0], match[1], match[2], match[3], count, match[5], match[6])\n",
    "        rows_html.append(row_html)\n",
    "        \n",
    "\n",
    "rows_html = \"\".join(rows_html)\n",
    "\n",
    "html_ = \"\"\"<table>\n",
    "<tr>\n",
    "    <th>path</th>\n",
    "    <th>query</th>\n",
    "    <th>location</th>\n",
    "    <th>start</th>\n",
    "    <th>stop</th>\n",
    "    <th>num of rows</th>\n",
    "    <th>match_id</th>\n",
    "    <th>match_name</th>\n",
    "</tr>\n",
    "{}\n",
    "</table>\"\"\".format(rows_html)\n",
    "        \n",
    "display(HTML(html_))"
   ]
  }
 ],
 "metadata": {
  "kernelspec": {
   "display_name": "Python 3",
   "language": "python",
   "name": "python3"
  },
  "language_info": {
   "codemirror_mode": {
    "name": "ipython",
    "version": 3
   },
   "file_extension": ".py",
   "mimetype": "text/x-python",
   "name": "python",
   "nbconvert_exporter": "python",
   "pygments_lexer": "ipython3",
   "version": "3.6.2"
  }
 },
 "nbformat": 4,
 "nbformat_minor": 2
}
