{
 "cells": [
  {
   "cell_type": "code",
   "execution_count": 1,
   "metadata": {
    "collapsed": true
   },
   "outputs": [],
   "source": [
    "import csv\n",
    "import contextlib\n",
    "import os, errno\n",
    "from collections import OrderedDict, Counter\n",
    "\n",
    "from IPython.core.display import display, HTML\n",
    "\n",
    "from pandas import DataFrame\n",
    "\n",
    "from periodo_reconciler import (\n",
    "    RProperty,\n",
    "    RQuery,\n",
    "    PeriodoReconciler,\n",
    "    CsvReconciler\n",
    ")"
   ]
  },
  {
   "cell_type": "code",
   "execution_count": 2,
   "metadata": {
    "collapsed": true
   },
   "outputs": [],
   "source": [
    "def output_path_name(inpath, test_data_dir=\"../test-data/\",\n",
    "                     test_output_dir=\"../test-output/\"):\n",
    "    \"\"\"\n",
    "    given a path in the test directory, return the path for corresponding output in the test output dir\n",
    "    \"\"\"\n",
    " \n",
    "    return os.path.join(test_output_dir, os.path.relpath(inpath, start=test_data_dir))\n",
    "\n",
    "def makedirs_for_path(fpath):\n",
    "    \"\"\"\n",
    "    make sure that the directory for fpath exists\n",
    "    \"\"\"\n",
    "    \n",
    "    (fdir, fname) = os.path.split(fpath)\n",
    "    try:\n",
    "        os.makedirs(fdir)\n",
    "    except OSError as e:\n",
    "        if e.errno != errno.EEXIST:\n",
    "            raise\n",
    "            \n",
    "    return True\n"
   ]
  },
  {
   "cell_type": "code",
   "execution_count": 3,
   "metadata": {
    "collapsed": true
   },
   "outputs": [],
   "source": [
    "def reconcile_to_csv_df(csv_path, kw, p_recon):\n",
    "    \"\"\"\n",
    "    Inputs:  \n",
    "    csv_path: the path of the csv file to reconcile\n",
    "    kw: a dict holding the query, location, start, stop fields\n",
    "    p_recon: a PeriodoReconciler object\n",
    "    \n",
    "    Side-effect:\n",
    "    * a csv file with the matches in the output directory\n",
    "    * returns a Pandas DataFrame holding the input data along with match data\n",
    "    \n",
    "    \"\"\"\n",
    "\n",
    "    output_path = output_path_name(csv_path)\n",
    "    makedirs_for_path(output_path)\n",
    "    \n",
    "    # https://stackoverflow.com/a/19412700/7782\n",
    "    with contextlib.ExitStack() as stack:\n",
    "        csvfile = stack.enter_context(open(csv_path))\n",
    "        outputfile = stack.enter_context(open(output_path, \"w\"))                  \n",
    "\n",
    "        # p_recon = PeriodoReconciler(host='localhost:8142')\n",
    "        c_recon = CsvReconciler(csvfile, p_recon, **kw)\n",
    "\n",
    "        matches = list(c_recon.matches())\n",
    "\n",
    "        c_recon.to_csv(outputfile, matches)\n",
    "        df = DataFrame(matches)\n",
    "\n",
    "        return df\n"
   ]
  },
  {
   "cell_type": "markdown",
   "metadata": {},
   "source": [
    "# simple example"
   ]
  },
  {
   "cell_type": "code",
   "execution_count": 4,
   "metadata": {},
   "outputs": [
    {
     "data": {
      "text/plain": [
       "1    2\n",
       "0    1\n",
       "Name: match_num, dtype: int64"
      ]
     },
     "execution_count": 4,
     "metadata": {},
     "output_type": "execute_result"
    }
   ],
   "source": [
    "# simple example\n",
    "\n",
    "csv_path = \"../test-data/periodo_simple_example.csv\"\n",
    "kw = {\n",
    "   'location': 'location',\n",
    "   'query': 'query',\n",
    "   'start': 'start',\n",
    "   'stop': 'end'\n",
    "}\n",
    "\n",
    "p_recon = PeriodoReconciler(host='localhost:8142')\n",
    "df = reconcile_to_csv_df(csv_path, kw, p_recon)\n",
    "\n",
    "df.match_num.value_counts()"
   ]
  },
  {
   "cell_type": "markdown",
   "metadata": {},
   "source": [
    "# OpenContext examples"
   ]
  },
  {
   "cell_type": "code",
   "execution_count": 5,
   "metadata": {
    "collapsed": true
   },
   "outputs": [],
   "source": [
    "# the list of OpenContext CSV files along with the columns to be fed to the reconciler\n",
    "\n",
    "OPENCONTEXT_TEST_FILES = [{'csv_path': '../test-data/OpenContext/Cyprus PKAP Survey.csv',\n",
    "  'kw': {'location': 'Context (1)',\n",
    "   'query': 'Period',\n",
    "   'start': 'Early BCE/CE',\n",
    "   'stop': 'Late BCE/CE'}},\n",
    " {'csv_path': '../test-data/OpenContext/European Cattle with Periods.csv',\n",
    "  'kw': {'location': 'Context (1)',\n",
    "   'query': 'Period',\n",
    "   'start': 'Early BCE/CE',\n",
    "   'stop': 'Late BCE/CE'}},\n",
    " {'csv_path': '../test-data/OpenContext/Petra Artifacts.csv',\n",
    "  'kw': {'location': 'Context (1)',\n",
    "   'query': 'Culture',\n",
    "   'start': 'Early BCE/CE',\n",
    "   'stop': 'Late BCE/CE'}}]\n",
    "\n",
    "\n",
    "kw_map = dict([(f['csv_path'], f['kw']) for f in OPENCONTEXT_TEST_FILES])"
   ]
  },
  {
   "cell_type": "code",
   "execution_count": 6,
   "metadata": {},
   "outputs": [
    {
     "name": "stdout",
     "output_type": "stream",
     "text": [
      "periodo-reconciler-py --location=\"Context (1)\" --query=\"Period\" --start=\"Early BCE/CE\" --stop=\"Late BCE/CE\" \"../test-data/OpenContext/Cyprus PKAP Survey.csv\" -\n",
      "periodo-reconciler-py --location=\"Context (1)\" --query=\"Period\" --start=\"Early BCE/CE\" --stop=\"Late BCE/CE\" \"../test-data/OpenContext/European Cattle with Periods.csv\" -\n",
      "periodo-reconciler-py --location=\"Context (1)\" --query=\"Culture\" --start=\"Early BCE/CE\" --stop=\"Late BCE/CE\" \"../test-data/OpenContext/Petra Artifacts.csv\" -\n"
     ]
    }
   ],
   "source": [
    "# write out incantation for the command line CSV reconciler\n",
    "\n",
    "\n",
    "for f in OPENCONTEXT_TEST_FILES:\n",
    "    options_from_kw = \" \".join(['--{}=\"{}\"'.format(k,v) for (k,v) in f['kw'].items()])\n",
    "    print('periodo-reconciler-py {} \"{}\" -'.format(options_from_kw, f['csv_path'] ))"
   ]
  },
  {
   "cell_type": "code",
   "execution_count": 7,
   "metadata": {},
   "outputs": [
    {
     "name": "stdout",
     "output_type": "stream",
     "text": [
      "../test-data/OpenContext/Petra Artifacts.csvh Periods.csv"
     ]
    }
   ],
   "source": [
    "matching_results = {}\n",
    "\n",
    "p_recon = PeriodoReconciler(host='localhost:8142')\n",
    "\n",
    "for file in OPENCONTEXT_TEST_FILES:\n",
    "    csv_path = file['csv_path']\n",
    "    kw = file['kw']\n",
    "    print (\"\\r{}\".format(csv_path), end='')\n",
    "    df = reconcile_to_csv_df(csv_path, kw, p_recon)\n",
    "    matching_results[csv_path] = df # df.match_num.value_counts()\n"
   ]
  },
  {
   "cell_type": "markdown",
   "metadata": {},
   "source": [
    "## rows matched vs not matched for each test file"
   ]
  },
  {
   "cell_type": "code",
   "execution_count": 8,
   "metadata": {},
   "outputs": [
    {
     "data": {
      "text/html": [
       "<table>\n",
       "<tr>\n",
       "    <th>path</th>\n",
       "    <th>matches</th>\n",
       "    <th>non-matches</th>\n",
       "</tr>\n",
       "<tr><td>../test-data/OpenContext/Cyprus PKAP Survey.csv</td><td>159</td><td>8278</td></tr><tr><td>../test-data/OpenContext/European Cattle with Periods.csv</td><td>11</td><td>5657</td></tr><tr><td>../test-data/OpenContext/Petra Artifacts.csv</td><td>114</td><td>52373</td></tr>\n",
       "</table>"
      ],
      "text/plain": [
       "<IPython.core.display.HTML object>"
      ]
     },
     "metadata": {},
     "output_type": "display_data"
    }
   ],
   "source": [
    "\n",
    "rows_html = (\"\".join([\"<tr><td>{}</td><td>{}</td><td>{}</td></tr>\".format(\n",
    " csv_path, df.match_num.value_counts()[1], df.match_num.value_counts()[0])\n",
    "for (csv_path, df) in matching_results.items()]))\n",
    "\n",
    "\n",
    "html_ = \"\"\"<table>\n",
    "<tr>\n",
    "    <th>path</th>\n",
    "    <th>matches</th>\n",
    "    <th>non-matches</th>\n",
    "</tr>\n",
    "{}\n",
    "</table>\"\"\".format(rows_html)\n",
    "\n",
    "display(HTML(html_))"
   ]
  },
  {
   "cell_type": "markdown",
   "metadata": {},
   "source": [
    "## which combination of query/location/start/stop were matched?"
   ]
  },
  {
   "cell_type": "code",
   "execution_count": 9,
   "metadata": {},
   "outputs": [
    {
     "data": {
      "text/html": [
       "<table>\n",
       "<tr>\n",
       "    <th>path</th>\n",
       "    <th>query</th>\n",
       "    <th>location</th>\n",
       "    <th>start</th>\n",
       "    <th>stop</th>\n",
       "    <th>num of rows</th>\n",
       "    <th>match_id</th>\n",
       "    <th>match_name</th>\n",
       "</tr>\n",
       "<tr><td>../test-data/OpenContext/Cyprus PKAP Survey.csv</td><td>Cypro-Archaic</td><td>Cyprus</td><td>-750</td>\n",
       "                      <td>-312</td><td>3</td><td>http://n2t.net/ark:/99152/p08m57h2cv3</td><td>Cypro-Archaic [Cyprus: -0749 to -0449]</td></tr><tr><td>../test-data/OpenContext/Cyprus PKAP Survey.csv</td><td>Post-Prehistoric</td><td>Cyprus</td><td>-999</td>\n",
       "                      <td>-999</td><td>60</td><td>http://n2t.net/ark:/99152/p0dg76f98q7</td><td>Post-Prehistoric [Cyprus, Cyprus: -0998 to 2008]</td></tr><tr><td>../test-data/OpenContext/Cyprus PKAP Survey.csv</td><td>Cypro-Archaic</td><td>Cyprus</td><td>-750</td>\n",
       "                      <td>-475</td><td>1</td><td>http://n2t.net/ark:/99152/p08m57h2cv3</td><td>Cypro-Archaic [Cyprus: -0749 to -0449]</td></tr><tr><td>../test-data/OpenContext/Cyprus PKAP Survey.csv</td><td>Ancient-Medieval</td><td>Cyprus</td><td>-3500</td>\n",
       "                      <td>1570</td><td>92</td><td>http://n2t.net/ark:/99152/p0dg76fjh5t</td><td>Ancient-Medieval [Cyprus, Cyprus: -3499 to 1570]</td></tr><tr><td>../test-data/OpenContext/Cyprus PKAP Survey.csv</td><td>Roman-Modern</td><td>Cyprus</td><td>-99</td>\n",
       "                      <td>-99</td><td>3</td><td>http://n2t.net/ark:/99152/p0dg76fd4wb</td><td>Roman-Modern [Cyprus, Cyprus: -0098 to 2008]</td></tr><tr><td>../test-data/OpenContext/European Cattle with Periods.csv</td><td>Not determined</td><td>Spain</td><td>-1500</td>\n",
       "                      <td>-714</td><td>7</td><td>http://n2t.net/ark:/99152/p086kj9s4tx</td><td>Not Reported [Missouri, Missouri: 1950 to 1950]</td></tr><tr><td>../test-data/OpenContext/European Cattle with Periods.csv</td><td>Not determined</td><td>Spain</td><td>-2000</td>\n",
       "                      <td>-714</td><td>2</td><td>http://n2t.net/ark:/99152/p086kj9s4tx</td><td>Not Reported [Missouri, Missouri: 1950 to 1950]</td></tr><tr><td>../test-data/OpenContext/European Cattle with Periods.csv</td><td>Not determined</td><td>Italy</td><td>-9500</td>\n",
       "                      <td>1950</td><td>2</td><td>http://n2t.net/ark:/99152/p086kj9s4tx</td><td>Not Reported [Missouri, Missouri: 1950 to 1950]</td></tr><tr><td>../test-data/OpenContext/Petra Artifacts.csv</td><td>Herodian</td><td>Jordan</td><td>-200</td>\n",
       "                      <td>360</td><td>4</td><td>http://n2t.net/ark:/99152/p0m63njw2xp</td><td>Herodian Period [Israel, Jordan, Israel, Jordan: -0037 to 0070]</td></tr><tr><td>../test-data/OpenContext/Petra Artifacts.csv</td><td>Islamic</td><td>Jordan</td><td>-200</td>\n",
       "                      <td>360</td><td>93</td><td>http://n2t.net/ark:/99152/p044n254d9s</td><td>Medieval Islamic [South eastern Kazakhstan, Kazakhstan: 0750 to 1200]</td></tr><tr><td>../test-data/OpenContext/Petra Artifacts.csv</td><td>Roman Provincial</td><td>Jordan</td><td>-200</td>\n",
       "                      <td>360</td><td>3</td><td>http://n2t.net/ark:/99152/p0gjgrsmhnc</td><td>Greek and Roman Provincial [United Kingdom, United Kingdom: -0699 to 0297]</td></tr><tr><td>../test-data/OpenContext/Petra Artifacts.csv</td><td>Hasmonaean? or Herodian?</td><td>Jordan</td><td>-200</td>\n",
       "                      <td>360</td><td>1</td><td>http://n2t.net/ark:/99152/p0m63njw2xp</td><td>Herodian Period [Israel, Jordan, Israel, Jordan: -0037 to 0070]</td></tr><tr><td>../test-data/OpenContext/Petra Artifacts.csv</td><td>Roman (Provincial?)</td><td>Jordan</td><td>-200</td>\n",
       "                      <td>360</td><td>2</td><td>http://n2t.net/ark:/99152/p0gjgrsmhnc</td><td>Greek and Roman Provincial [United Kingdom, United Kingdom: -0699 to 0297]</td></tr><tr><td>../test-data/OpenContext/Petra Artifacts.csv</td><td>Roman (Provincial)?</td><td>Jordan</td><td>-200</td>\n",
       "                      <td>360</td><td>2</td><td>http://n2t.net/ark:/99152/p0gjgrsmhnc</td><td>Greek and Roman Provincial [United Kingdom, United Kingdom: -0699 to 0297]</td></tr><tr><td>../test-data/OpenContext/Petra Artifacts.csv</td><td>other</td><td>Jordan</td><td>-200</td>\n",
       "                      <td>360</td><td>8</td><td>http://n2t.net/ark:/99152/p086kj9rhj9</td><td>Other [Missouri, Missouri: 1950 to 1950]</td></tr><tr><td>../test-data/OpenContext/Petra Artifacts.csv</td><td>lb</td><td>Jordan</td><td>-200</td>\n",
       "                      <td>360</td><td>1</td><td>http://n2t.net/ark:/99152/p0m63njwrjx</td><td>Late Bronze Age [Turkey, Turkey: -1600 to -1200]</td></tr>\n",
       "</table>"
      ],
      "text/plain": [
       "<IPython.core.display.HTML object>"
      ]
     },
     "metadata": {},
     "output_type": "display_data"
    }
   ],
   "source": [
    "rows_html = []\n",
    "\n",
    "for (csv_path, df) in matching_results.items():\n",
    "    kw = kw_map[csv_path]\n",
    "    counter = Counter(list(df.apply(lambda row: (row[kw['query']],\n",
    "                      row[kw['location']],\n",
    "                      row[kw['start']],\n",
    "                      row[kw['stop']],\n",
    "                      row['match_num'],\n",
    "                      row['match_id'],\n",
    "                      row['match_name']\n",
    "                     ), axis=1)))\n",
    "    \n",
    "    matching_items = [(k,c) for (k,c) in counter.items() if k[4] > 0 ]\n",
    "\n",
    "    for (match, count) in matching_items:\n",
    "        row_html = \"\"\"<tr><td>{}</td><td>{}</td><td>{}</td><td>{}</td>\n",
    "                      <td>{}</td><td>{}</td><td>{}</td><td>{}</td></tr>\"\"\".format(\n",
    "             csv_path, match[0], match[1], match[2], match[3], count, match[5], match[6])\n",
    "        rows_html.append(row_html)\n",
    "        \n",
    "\n",
    "rows_html = \"\".join(rows_html)\n",
    "\n",
    "html_ = \"\"\"<table>\n",
    "<tr>\n",
    "    <th>path</th>\n",
    "    <th>query</th>\n",
    "    <th>location</th>\n",
    "    <th>start</th>\n",
    "    <th>stop</th>\n",
    "    <th>num of rows</th>\n",
    "    <th>match_id</th>\n",
    "    <th>match_name</th>\n",
    "</tr>\n",
    "{}\n",
    "</table>\"\"\".format(rows_html)\n",
    "        \n",
    "display(HTML(html_))"
   ]
  },
  {
   "cell_type": "code",
   "execution_count": 10,
   "metadata": {},
   "outputs": [
    {
     "data": {
      "text/plain": [
       "99"
      ]
     },
     "execution_count": 10,
     "metadata": {},
     "output_type": "execute_result"
    }
   ],
   "source": [
    "len(counter)"
   ]
  },
  {
   "cell_type": "markdown",
   "metadata": {},
   "source": [
    "# studying non-matches vs matches"
   ]
  },
  {
   "cell_type": "code",
   "execution_count": 11,
   "metadata": {},
   "outputs": [
    {
     "data": {
      "text/plain": [
       "dict_keys(['../test-data/OpenContext/Cyprus PKAP Survey.csv', '../test-data/OpenContext/European Cattle with Periods.csv', '../test-data/OpenContext/Petra Artifacts.csv'])"
      ]
     },
     "execution_count": 11,
     "metadata": {},
     "output_type": "execute_result"
    }
   ],
   "source": [
    "matching_results.keys()"
   ]
  },
  {
   "cell_type": "code",
   "execution_count": 12,
   "metadata": {},
   "outputs": [
    {
     "data": {
      "text/html": [
       "<div>\n",
       "<style>\n",
       "    .dataframe thead tr:only-child th {\n",
       "        text-align: right;\n",
       "    }\n",
       "\n",
       "    .dataframe thead th {\n",
       "        text-align: left;\n",
       "    }\n",
       "\n",
       "    .dataframe tbody tr th {\n",
       "        vertical-align: top;\n",
       "    }\n",
       "</style>\n",
       "<table border=\"1\" class=\"dataframe\">\n",
       "  <thead>\n",
       "    <tr style=\"text-align: right;\">\n",
       "      <th></th>\n",
       "      <th>URI</th>\n",
       "      <th>Item Label</th>\n",
       "      <th>Project Label</th>\n",
       "      <th>Project URI</th>\n",
       "      <th>Context (1)</th>\n",
       "      <th>Context (2)</th>\n",
       "      <th>Context (3)</th>\n",
       "      <th>Context (4)</th>\n",
       "      <th>Context (5)</th>\n",
       "      <th>Context URI</th>\n",
       "      <th>...</th>\n",
       "      <th>Has type</th>\n",
       "      <th>Chronotype</th>\n",
       "      <th>Collection Type</th>\n",
       "      <th>Material</th>\n",
       "      <th>Period</th>\n",
       "      <th>Extant Part</th>\n",
       "      <th>Fabric group</th>\n",
       "      <th>match_num</th>\n",
       "      <th>match_name</th>\n",
       "      <th>match_id</th>\n",
       "    </tr>\n",
       "  </thead>\n",
       "  <tbody>\n",
       "    <tr>\n",
       "      <th>0</th>\n",
       "      <td>http://opencontext.org/subjects/8C2A609B-B20B-...</td>\n",
       "      <td>Batch 131 (exp)</td>\n",
       "      <td>Pyla-Koutsopetria Archaeological Project I: Pe...</td>\n",
       "      <td>http://opencontext.org/projects/3F6DCD13-A476-...</td>\n",
       "      <td>Cyprus</td>\n",
       "      <td>PKAP Survey Area</td>\n",
       "      <td>Vigla</td>\n",
       "      <td>Unit 501</td>\n",
       "      <td></td>\n",
       "      <td>http://opencontext.org/subjects/C3EDBDC2-6B6B-...</td>\n",
       "      <td>...</td>\n",
       "      <td></td>\n",
       "      <td>Coarse Ware, Roman Late</td>\n",
       "      <td>Survey</td>\n",
       "      <td>pottery</td>\n",
       "      <td>Roman, Late</td>\n",
       "      <td>rim</td>\n",
       "      <td>coarse</td>\n",
       "      <td>0</td>\n",
       "      <td></td>\n",
       "      <td></td>\n",
       "    </tr>\n",
       "    <tr>\n",
       "      <th>1</th>\n",
       "      <td>http://opencontext.org/subjects/636D6826-BCBD-...</td>\n",
       "      <td>Batch 17</td>\n",
       "      <td>Pyla-Koutsopetria Archaeological Project I: Pe...</td>\n",
       "      <td>http://opencontext.org/projects/3F6DCD13-A476-...</td>\n",
       "      <td>Cyprus</td>\n",
       "      <td>PKAP Survey Area</td>\n",
       "      <td>Dhekeleia</td>\n",
       "      <td>Unit 223</td>\n",
       "      <td></td>\n",
       "      <td>http://opencontext.org/subjects/8E773523-4391-...</td>\n",
       "      <td>...</td>\n",
       "      <td>Late Roman 1 Amphora; amphora</td>\n",
       "      <td>Amphora, Late Roman 1</td>\n",
       "      <td>Survey</td>\n",
       "      <td>pottery</td>\n",
       "      <td>Roman, Late</td>\n",
       "      <td>handle</td>\n",
       "      <td>amphora</td>\n",
       "      <td>0</td>\n",
       "      <td></td>\n",
       "      <td></td>\n",
       "    </tr>\n",
       "    <tr>\n",
       "      <th>2</th>\n",
       "      <td>http://opencontext.org/subjects/CA8C3EE0-0F09-...</td>\n",
       "      <td>Batch 19</td>\n",
       "      <td>Pyla-Koutsopetria Archaeological Project I: Pe...</td>\n",
       "      <td>http://opencontext.org/projects/3F6DCD13-A476-...</td>\n",
       "      <td>Cyprus</td>\n",
       "      <td>PKAP Survey Area</td>\n",
       "      <td>West Pyla</td>\n",
       "      <td>Unit 546</td>\n",
       "      <td></td>\n",
       "      <td>http://opencontext.org/subjects/34C7E1EC-F44D-...</td>\n",
       "      <td>...</td>\n",
       "      <td>Late Roman 1 Amphora; amphora</td>\n",
       "      <td>Amphora, Late Roman 1</td>\n",
       "      <td>Survey</td>\n",
       "      <td>pottery</td>\n",
       "      <td>Roman, Late</td>\n",
       "      <td>handle</td>\n",
       "      <td>amphora</td>\n",
       "      <td>0</td>\n",
       "      <td></td>\n",
       "      <td></td>\n",
       "    </tr>\n",
       "    <tr>\n",
       "      <th>3</th>\n",
       "      <td>http://opencontext.org/subjects/622BEE81-FC52-...</td>\n",
       "      <td>Batch 140 (exp)</td>\n",
       "      <td>Pyla-Koutsopetria Archaeological Project I: Pe...</td>\n",
       "      <td>http://opencontext.org/projects/3F6DCD13-A476-...</td>\n",
       "      <td>Cyprus</td>\n",
       "      <td>PKAP Survey Area</td>\n",
       "      <td>Vigla</td>\n",
       "      <td>Unit 501</td>\n",
       "      <td></td>\n",
       "      <td>http://opencontext.org/subjects/C3EDBDC2-6B6B-...</td>\n",
       "      <td>...</td>\n",
       "      <td></td>\n",
       "      <td>Black Glazed, Attic, Classical</td>\n",
       "      <td>Survey</td>\n",
       "      <td>pottery</td>\n",
       "      <td>Classical</td>\n",
       "      <td>handle</td>\n",
       "      <td>fine</td>\n",
       "      <td>0</td>\n",
       "      <td></td>\n",
       "      <td></td>\n",
       "    </tr>\n",
       "    <tr>\n",
       "      <th>4</th>\n",
       "      <td>http://opencontext.org/subjects/58920419-0245-...</td>\n",
       "      <td>Batch 7 (exp)</td>\n",
       "      <td>Pyla-Koutsopetria Archaeological Project I: Pe...</td>\n",
       "      <td>http://opencontext.org/projects/3F6DCD13-A476-...</td>\n",
       "      <td>Cyprus</td>\n",
       "      <td>PKAP Survey Area</td>\n",
       "      <td>Vigla</td>\n",
       "      <td>Unit 501</td>\n",
       "      <td></td>\n",
       "      <td>http://opencontext.org/subjects/C3EDBDC2-6B6B-...</td>\n",
       "      <td>...</td>\n",
       "      <td></td>\n",
       "      <td>Storage, Archaic Basket Handle</td>\n",
       "      <td>Survey</td>\n",
       "      <td>pottery</td>\n",
       "      <td>Archaic-Hellenistic</td>\n",
       "      <td>handle</td>\n",
       "      <td>coarse</td>\n",
       "      <td>0</td>\n",
       "      <td></td>\n",
       "      <td></td>\n",
       "    </tr>\n",
       "  </tbody>\n",
       "</table>\n",
       "<p>5 rows × 27 columns</p>\n",
       "</div>"
      ],
      "text/plain": [
       "                                                 URI       Item Label  \\\n",
       "0  http://opencontext.org/subjects/8C2A609B-B20B-...  Batch 131 (exp)   \n",
       "1  http://opencontext.org/subjects/636D6826-BCBD-...         Batch 17   \n",
       "2  http://opencontext.org/subjects/CA8C3EE0-0F09-...         Batch 19   \n",
       "3  http://opencontext.org/subjects/622BEE81-FC52-...  Batch 140 (exp)   \n",
       "4  http://opencontext.org/subjects/58920419-0245-...    Batch 7 (exp)   \n",
       "\n",
       "                                       Project Label  \\\n",
       "0  Pyla-Koutsopetria Archaeological Project I: Pe...   \n",
       "1  Pyla-Koutsopetria Archaeological Project I: Pe...   \n",
       "2  Pyla-Koutsopetria Archaeological Project I: Pe...   \n",
       "3  Pyla-Koutsopetria Archaeological Project I: Pe...   \n",
       "4  Pyla-Koutsopetria Archaeological Project I: Pe...   \n",
       "\n",
       "                                         Project URI Context (1)  \\\n",
       "0  http://opencontext.org/projects/3F6DCD13-A476-...      Cyprus   \n",
       "1  http://opencontext.org/projects/3F6DCD13-A476-...      Cyprus   \n",
       "2  http://opencontext.org/projects/3F6DCD13-A476-...      Cyprus   \n",
       "3  http://opencontext.org/projects/3F6DCD13-A476-...      Cyprus   \n",
       "4  http://opencontext.org/projects/3F6DCD13-A476-...      Cyprus   \n",
       "\n",
       "        Context (2) Context (3) Context (4) Context (5)  \\\n",
       "0  PKAP Survey Area       Vigla    Unit 501               \n",
       "1  PKAP Survey Area   Dhekeleia    Unit 223               \n",
       "2  PKAP Survey Area   West Pyla    Unit 546               \n",
       "3  PKAP Survey Area       Vigla    Unit 501               \n",
       "4  PKAP Survey Area       Vigla    Unit 501               \n",
       "\n",
       "                                         Context URI   ...     \\\n",
       "0  http://opencontext.org/subjects/C3EDBDC2-6B6B-...   ...      \n",
       "1  http://opencontext.org/subjects/8E773523-4391-...   ...      \n",
       "2  http://opencontext.org/subjects/34C7E1EC-F44D-...   ...      \n",
       "3  http://opencontext.org/subjects/C3EDBDC2-6B6B-...   ...      \n",
       "4  http://opencontext.org/subjects/C3EDBDC2-6B6B-...   ...      \n",
       "\n",
       "                        Has type                      Chronotype  \\\n",
       "0                                        Coarse Ware, Roman Late   \n",
       "1  Late Roman 1 Amphora; amphora           Amphora, Late Roman 1   \n",
       "2  Late Roman 1 Amphora; amphora           Amphora, Late Roman 1   \n",
       "3                                 Black Glazed, Attic, Classical   \n",
       "4                                 Storage, Archaic Basket Handle   \n",
       "\n",
       "  Collection Type Material               Period Extant Part Fabric group  \\\n",
       "0          Survey  pottery          Roman, Late         rim       coarse   \n",
       "1          Survey  pottery          Roman, Late      handle      amphora   \n",
       "2          Survey  pottery          Roman, Late      handle      amphora   \n",
       "3          Survey  pottery            Classical      handle         fine   \n",
       "4          Survey  pottery  Archaic-Hellenistic      handle       coarse   \n",
       "\n",
       "  match_num match_name match_id  \n",
       "0         0                      \n",
       "1         0                      \n",
       "2         0                      \n",
       "3         0                      \n",
       "4         0                      \n",
       "\n",
       "[5 rows x 27 columns]"
      ]
     },
     "execution_count": 12,
     "metadata": {},
     "output_type": "execute_result"
    }
   ],
   "source": [
    "# let's study the first csv file\n",
    "\n",
    "df = matching_results[OPENCONTEXT_TEST_FILES[0]['csv_path']]\n",
    "df.head()"
   ]
  },
  {
   "cell_type": "code",
   "execution_count": null,
   "metadata": {
    "collapsed": true
   },
   "outputs": [],
   "source": []
  }
 ],
 "metadata": {
  "kernelspec": {
   "display_name": "Python 3",
   "language": "python",
   "name": "python3"
  },
  "language_info": {
   "codemirror_mode": {
    "name": "ipython",
    "version": 3
   },
   "file_extension": ".py",
   "mimetype": "text/x-python",
   "name": "python",
   "nbconvert_exporter": "python",
   "pygments_lexer": "ipython3",
   "version": "3.6.2"
  }
 },
 "nbformat": 4,
 "nbformat_minor": 2
}
