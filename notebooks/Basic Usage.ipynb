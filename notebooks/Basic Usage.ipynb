{
 "cells": [
  {
   "cell_type": "markdown",
   "metadata": {},
   "source": [
    "[periodo-reconciler/API.md at master · periodo/periodo-reconciler](https://github.com/periodo/periodo-reconciler/blob/master/API.md)"
   ]
  },
  {
   "cell_type": "code",
   "execution_count": 1,
   "metadata": {},
   "outputs": [],
   "source": [
    "import requests\n",
    "import json"
   ]
  },
  {
   "cell_type": "code",
   "execution_count": 2,
   "metadata": {},
   "outputs": [],
   "source": [
    "from periodo_reconciler import (\n",
    "    RProperty,\n",
    "    RQuery,\n",
    "    PeriodoReconciler\n",
    ")"
   ]
  },
  {
   "cell_type": "markdown",
   "metadata": {},
   "source": [
    "Instantiate `PeriodoReconciler` for the reconciler run on the default local port"
   ]
  },
  {
   "cell_type": "code",
   "execution_count": 3,
   "metadata": {},
   "outputs": [
    {
     "data": {
      "text/plain": [
       "PeriodoReconciler(host=\"localhost:8142\", protocol=\"http\")"
      ]
     },
     "execution_count": 3,
     "metadata": {},
     "output_type": "execute_result"
    }
   ],
   "source": [
    "p_recon = PeriodoReconciler(host='localhost:8142')\n",
    "p_recon"
   ]
  },
  {
   "cell_type": "markdown",
   "metadata": {},
   "source": [
    "Call the [describe method of the reconciler](https://github.com/periodo/periodo-reconciler/blob/master/API.md#describe-the-reconciliation-service)"
   ]
  },
  {
   "cell_type": "code",
   "execution_count": 4,
   "metadata": {},
   "outputs": [
    {
     "data": {
      "text/plain": [
       "{'defaultTypes',\n",
       " 'identifierSpace',\n",
       " 'name',\n",
       " 'preview',\n",
       " 'schemaSpace',\n",
       " 'suggest',\n",
       " 'view'}"
      ]
     },
     "execution_count": 4,
     "metadata": {},
     "output_type": "execute_result"
    }
   ],
   "source": [
    "set(p_recon.describe().keys())"
   ]
  },
  {
   "cell_type": "markdown",
   "metadata": {},
   "source": [
    "# Reconcile period names \n"
   ]
  },
  {
   "cell_type": "markdown",
   "metadata": {},
   "source": [
    "Let's cast the example from [periodo-reconciler/API.md at master · periodo/periodo-reconciler](https://github.com/periodo/periodo-reconciler/blob/master/API.md#reconcile-period-names-using-get), which has the following  a JSON object specifying three queries: \n",
    "\n",
    "\n",
    "```\n",
    "{\n",
    "  \"basic-query\": {\n",
    "    \"query\": \"北宋\"\n",
    "  },\n",
    "  \"limited-query\": {\n",
    "    \"query\": \"bronze age\",\n",
    "    \"limit\": 1\n",
    "  },\n",
    "  \"additional-properties-query\": {\n",
    "    \"query\": \"Ранньоримський\",\n",
    "    \"properties\": [\n",
    "      {\n",
    "        \"p\": \"location\",\n",
    "        \"v\": \"Ukraine\"\n",
    "      },\n",
    "      {\n",
    "        \"p\": \"start\",\n",
    "        \"v\": \"200\"\n",
    "      },\n",
    "      {\n",
    "        \"p\": \"stop\",\n",
    "        \"v\": \"600\"\n",
    "      }\n",
    "    ]\n",
    "  }\n",
    "}\n",
    "```"
   ]
  },
  {
   "cell_type": "code",
   "execution_count": 5,
   "metadata": {},
   "outputs": [
    {
     "data": {
      "text/plain": [
       "{'basic-query': {'query': '北宋'},\n",
       " 'limited-query': {'query': 'bronze age', 'limit': 1},\n",
       " 'additional-properties-query': {'query': 'Ранньоримський',\n",
       "  'properties': [{'p': 'location', 'v': 'Ukraine'},\n",
       "   {'p': 'start', 'v': '200'},\n",
       "   {'p': 'stop', 'v': '600'}]}}"
      ]
     },
     "execution_count": 5,
     "metadata": {},
     "output_type": "execute_result"
    }
   ],
   "source": [
    "# q is the JSON object specifying three queries\n",
    "\n",
    "q = \"\"\"\n",
    "{\n",
    "  \"basic-query\": {\n",
    "    \"query\": \"北宋\"\n",
    "  },\n",
    "  \"limited-query\": {\n",
    "    \"query\": \"bronze age\",\n",
    "    \"limit\": 1\n",
    "  },\n",
    "  \"additional-properties-query\": {\n",
    "    \"query\": \"Ранньоримський\",\n",
    "    \"properties\": [\n",
    "      {\n",
    "        \"p\": \"location\",\n",
    "        \"v\": \"Ukraine\"\n",
    "      },\n",
    "      {\n",
    "        \"p\": \"start\",\n",
    "        \"v\": \"200\"\n",
    "      },\n",
    "      {\n",
    "        \"p\": \"stop\",\n",
    "        \"v\": \"600\"\n",
    "      }\n",
    "    ]\n",
    "  }\n",
    "}\n",
    "\n",
    "\"\"\".strip()\n",
    "\n",
    "json.loads(q)"
   ]
  },
  {
   "cell_type": "markdown",
   "metadata": {},
   "source": [
    "Call the Open Refine reconciliation service directly using `requests`"
   ]
  },
  {
   "cell_type": "code",
   "execution_count": 6,
   "metadata": {},
   "outputs": [
    {
     "data": {
      "text/plain": [
       "{'basic-query': {'result': []},\n",
       " 'limited-query': {'result': []},\n",
       " 'additional-properties-query': {'result': []}}"
      ]
     },
     "execution_count": 6,
     "metadata": {},
     "output_type": "execute_result"
    }
   ],
   "source": [
    "r = requests.get('http://localhost:8142', params={'queries':q})\n",
    "r.json()"
   ]
  },
  {
   "cell_type": "markdown",
   "metadata": {},
   "source": [
    "Now, rewrite this payload as a list of `RQuery` objects, some of which themselves contain some `RProperty` instances."
   ]
  },
  {
   "cell_type": "code",
   "execution_count": 7,
   "metadata": {},
   "outputs": [
    {
     "data": {
      "text/plain": [
       "[RQuery(\"\\u5317\\u5b8b\", label=\"basic-query\"),\n",
       " RQuery(\"bronze age\", label=\"limited-query\", limit=1),\n",
       " RQuery(\"\\u0420\\u0430\\u043d\\u043d\\u044c\\u043e\\u0440\\u0438\\u043c\\u0441\\u044c\\u043a\\u0438\\u0439\", label=\"additional-properties-query\", properties=[RProperty(\"location\", \"Ukraine\"),\n",
       " RProperty(\"start\", 200),\n",
       " RProperty(\"end\", 600)])]"
      ]
     },
     "execution_count": 7,
     "metadata": {},
     "output_type": "execute_result"
    }
   ],
   "source": [
    "queries = [\n",
    "    RQuery(\"北宋\", label=\"basic-query\"),\n",
    "    RQuery(\"bronze age\", label=\"limited-query\", limit=1),\n",
    "    RQuery(\"Ранньоримський\", label=\"additional-properties-query\", properties=[\n",
    "        RProperty('location', 'Ukraine'),\n",
    "        RProperty('start', 200),\n",
    "        RProperty('end', 600)\n",
    "    ])\n",
    "]\n",
    "\n",
    "queries"
   ]
  },
  {
   "cell_type": "code",
   "execution_count": 8,
   "metadata": {},
   "outputs": [
    {
     "data": {
      "text/plain": [
       "{'basic-query': {'result': []},\n",
       " 'limited-query': {'result': []},\n",
       " 'additional-properties-query': {'result': []}}"
      ]
     },
     "execution_count": 8,
     "metadata": {},
     "output_type": "execute_result"
    }
   ],
   "source": [
    "# you can use post or get and get the same results in doing the reconciliation\n",
    "r = p_recon.reconcile(queries, method='post')\n",
    "r"
   ]
  },
  {
   "cell_type": "markdown",
   "metadata": {},
   "source": [
    "Demonstrate how to [Suggest property names](https://github.com/periodo/periodo-reconciler/blob/master/API.md#suggest-property-names)"
   ]
  },
  {
   "cell_type": "code",
   "execution_count": 9,
   "metadata": {},
   "outputs": [
    {
     "data": {
      "text/plain": [
       "[{'id': 'location', 'name': 'Spatial coverage'},\n",
       " {'id': 'start', 'name': 'Year or start year'},\n",
       " {'id': 'stop', 'name': 'End year'}]"
      ]
     },
     "execution_count": 9,
     "metadata": {},
     "output_type": "execute_result"
    }
   ],
   "source": [
    "result = p_recon.suggest_properties()\n",
    "result"
   ]
  },
  {
   "cell_type": "markdown",
   "metadata": {},
   "source": [
    "Exercise the [suggest entities](https://github.com/periodo/periodo-reconciler/blob/master/API.md#suggest-period-definitions) functionality"
   ]
  },
  {
   "cell_type": "code",
   "execution_count": 15,
   "metadata": {},
   "outputs": [
    {
     "data": {
      "text/plain": [
       "[]"
      ]
     },
     "execution_count": 15,
     "metadata": {},
     "output_type": "execute_result"
    }
   ],
   "source": [
    "# http://localhost:8142/suggest/entities?prefix=bashkekohore\n",
    "\n",
    "p_recon.suggest_entities('bashkekohore')"
   ]
  },
  {
   "cell_type": "code",
   "execution_count": 16,
   "metadata": {},
   "outputs": [
    {
     "data": {
      "text/plain": [
       "[]"
      ]
     },
     "execution_count": 16,
     "metadata": {},
     "output_type": "execute_result"
    }
   ],
   "source": [
    "# suggest_entities doesn't seem to be working anymore\n",
    "\n",
    "p_recon.suggest_entities('Iron')"
   ]
  },
  {
   "cell_type": "markdown",
   "metadata": {},
   "source": [
    "[Preview period definition details](https://github.com/periodo/periodo-reconciler/blob/master/API.md#preview-period-definition-details)"
   ]
  },
  {
   "cell_type": "code",
   "execution_count": 11,
   "metadata": {},
   "outputs": [
    {
     "ename": "HTTPError",
     "evalue": "404 Client Error: Not Found for url: http://localhost:8142/preview?id=http%3A%2F%2Fn2t.net%2Fark%3A%2F99152%2Fp0fp7wvjvn8",
     "output_type": "error",
     "traceback": [
      "\u001b[0;31m---------------------------------------------------------------------------\u001b[0m",
      "\u001b[0;31mHTTPError\u001b[0m                                 Traceback (most recent call last)",
      "\u001b[0;32m<ipython-input-11-80a6dcca9f21>\u001b[0m in \u001b[0;36m<module>\u001b[0;34m\u001b[0m\n\u001b[0;32m----> 1\u001b[0;31m \u001b[0mp_recon\u001b[0m\u001b[0;34m.\u001b[0m\u001b[0mpreview_period\u001b[0m\u001b[0;34m(\u001b[0m\u001b[0;34m'http://n2t.net/ark:/99152/p0fp7wvjvn8'\u001b[0m\u001b[0;34m)\u001b[0m\u001b[0;34m\u001b[0m\u001b[0;34m\u001b[0m\u001b[0m\n\u001b[0m",
      "\u001b[0;32m~/C/src/periodo-reconciler-py/.venv/lib/python3.6/site-packages/periodo_reconciler/__init__.py\u001b[0m in \u001b[0;36mpreview_period\u001b[0;34m(self, period_id, flyout)\u001b[0m\n\u001b[1;32m    193\u001b[0m             \u001b[0;32mreturn\u001b[0m \u001b[0mr\u001b[0m\u001b[0;34m.\u001b[0m\u001b[0mcontent\u001b[0m\u001b[0;34m\u001b[0m\u001b[0;34m\u001b[0m\u001b[0m\n\u001b[1;32m    194\u001b[0m         \u001b[0;32melse\u001b[0m\u001b[0;34m:\u001b[0m\u001b[0;34m\u001b[0m\u001b[0;34m\u001b[0m\u001b[0m\n\u001b[0;32m--> 195\u001b[0;31m             \u001b[0mr\u001b[0m\u001b[0;34m.\u001b[0m\u001b[0mraise_for_status\u001b[0m\u001b[0;34m(\u001b[0m\u001b[0;34m)\u001b[0m\u001b[0;34m\u001b[0m\u001b[0;34m\u001b[0m\u001b[0m\n\u001b[0m\u001b[1;32m    196\u001b[0m \u001b[0;34m\u001b[0m\u001b[0m\n\u001b[1;32m    197\u001b[0m \u001b[0;34m\u001b[0m\u001b[0m\n",
      "\u001b[0;32m~/C/src/periodo-reconciler-py/.venv/lib/python3.6/site-packages/requests/models.py\u001b[0m in \u001b[0;36mraise_for_status\u001b[0;34m(self)\u001b[0m\n\u001b[1;32m    939\u001b[0m \u001b[0;34m\u001b[0m\u001b[0m\n\u001b[1;32m    940\u001b[0m         \u001b[0;32mif\u001b[0m \u001b[0mhttp_error_msg\u001b[0m\u001b[0;34m:\u001b[0m\u001b[0;34m\u001b[0m\u001b[0;34m\u001b[0m\u001b[0m\n\u001b[0;32m--> 941\u001b[0;31m             \u001b[0;32mraise\u001b[0m \u001b[0mHTTPError\u001b[0m\u001b[0;34m(\u001b[0m\u001b[0mhttp_error_msg\u001b[0m\u001b[0;34m,\u001b[0m \u001b[0mresponse\u001b[0m\u001b[0;34m=\u001b[0m\u001b[0mself\u001b[0m\u001b[0;34m)\u001b[0m\u001b[0;34m\u001b[0m\u001b[0;34m\u001b[0m\u001b[0m\n\u001b[0m\u001b[1;32m    942\u001b[0m \u001b[0;34m\u001b[0m\u001b[0m\n\u001b[1;32m    943\u001b[0m     \u001b[0;32mdef\u001b[0m \u001b[0mclose\u001b[0m\u001b[0;34m(\u001b[0m\u001b[0mself\u001b[0m\u001b[0;34m)\u001b[0m\u001b[0;34m:\u001b[0m\u001b[0;34m\u001b[0m\u001b[0;34m\u001b[0m\u001b[0m\n",
      "\u001b[0;31mHTTPError\u001b[0m: 404 Client Error: Not Found for url: http://localhost:8142/preview?id=http%3A%2F%2Fn2t.net%2Fark%3A%2F99152%2Fp0fp7wvjvn8"
     ]
    }
   ],
   "source": [
    "p_recon.preview_period('http://n2t.net/ark:/99152/p0fp7wvjvn8')"
   ]
  },
  {
   "cell_type": "code",
   "execution_count": 19,
   "metadata": {},
   "outputs": [
    {
     "ename": "HTTPError",
     "evalue": "404 Client Error: Not Found for url: http://localhost:8142/preview?id=http%3A%2F%2Fn2t.net%2Fark%3A%2F99152%2Fp0fp7wvjvn8&flyout=True",
     "output_type": "error",
     "traceback": [
      "\u001b[0;31m---------------------------------------------------------------------------\u001b[0m",
      "\u001b[0;31mHTTPError\u001b[0m                                 Traceback (most recent call last)",
      "\u001b[0;32m<ipython-input-19-40cf1bb72b10>\u001b[0m in \u001b[0;36m<module>\u001b[0;34m\u001b[0m\n\u001b[0;32m----> 1\u001b[0;31m \u001b[0mr\u001b[0m \u001b[0;34m=\u001b[0m \u001b[0mp_recon\u001b[0m\u001b[0;34m.\u001b[0m\u001b[0mpreview_period\u001b[0m\u001b[0;34m(\u001b[0m\u001b[0;34m'http://n2t.net/ark:/99152/p0fp7wvjvn8'\u001b[0m\u001b[0;34m,\u001b[0m \u001b[0mflyout\u001b[0m\u001b[0;34m=\u001b[0m\u001b[0;32mTrue\u001b[0m\u001b[0;34m)\u001b[0m\u001b[0;34m\u001b[0m\u001b[0;34m\u001b[0m\u001b[0m\n\u001b[0m",
      "\u001b[0;32m~/C/src/periodo-reconciler-py/.venv/lib/python3.6/site-packages/periodo_reconciler/__init__.py\u001b[0m in \u001b[0;36mpreview_period\u001b[0;34m(self, period_id, flyout)\u001b[0m\n\u001b[1;32m    193\u001b[0m             \u001b[0;32mreturn\u001b[0m \u001b[0mr\u001b[0m\u001b[0;34m.\u001b[0m\u001b[0mcontent\u001b[0m\u001b[0;34m\u001b[0m\u001b[0;34m\u001b[0m\u001b[0m\n\u001b[1;32m    194\u001b[0m         \u001b[0;32melse\u001b[0m\u001b[0;34m:\u001b[0m\u001b[0;34m\u001b[0m\u001b[0;34m\u001b[0m\u001b[0m\n\u001b[0;32m--> 195\u001b[0;31m             \u001b[0mr\u001b[0m\u001b[0;34m.\u001b[0m\u001b[0mraise_for_status\u001b[0m\u001b[0;34m(\u001b[0m\u001b[0;34m)\u001b[0m\u001b[0;34m\u001b[0m\u001b[0;34m\u001b[0m\u001b[0m\n\u001b[0m\u001b[1;32m    196\u001b[0m \u001b[0;34m\u001b[0m\u001b[0m\n\u001b[1;32m    197\u001b[0m \u001b[0;34m\u001b[0m\u001b[0m\n",
      "\u001b[0;32m~/C/src/periodo-reconciler-py/.venv/lib/python3.6/site-packages/requests/models.py\u001b[0m in \u001b[0;36mraise_for_status\u001b[0;34m(self)\u001b[0m\n\u001b[1;32m    939\u001b[0m \u001b[0;34m\u001b[0m\u001b[0m\n\u001b[1;32m    940\u001b[0m         \u001b[0;32mif\u001b[0m \u001b[0mhttp_error_msg\u001b[0m\u001b[0;34m:\u001b[0m\u001b[0;34m\u001b[0m\u001b[0;34m\u001b[0m\u001b[0m\n\u001b[0;32m--> 941\u001b[0;31m             \u001b[0;32mraise\u001b[0m \u001b[0mHTTPError\u001b[0m\u001b[0;34m(\u001b[0m\u001b[0mhttp_error_msg\u001b[0m\u001b[0;34m,\u001b[0m \u001b[0mresponse\u001b[0m\u001b[0;34m=\u001b[0m\u001b[0mself\u001b[0m\u001b[0;34m)\u001b[0m\u001b[0;34m\u001b[0m\u001b[0;34m\u001b[0m\u001b[0m\n\u001b[0m\u001b[1;32m    942\u001b[0m \u001b[0;34m\u001b[0m\u001b[0m\n\u001b[1;32m    943\u001b[0m     \u001b[0;32mdef\u001b[0m \u001b[0mclose\u001b[0m\u001b[0;34m(\u001b[0m\u001b[0mself\u001b[0m\u001b[0;34m)\u001b[0m\u001b[0;34m:\u001b[0m\u001b[0;34m\u001b[0m\u001b[0;34m\u001b[0m\u001b[0m\n",
      "\u001b[0;31mHTTPError\u001b[0m: 404 Client Error: Not Found for url: http://localhost:8142/preview?id=http%3A%2F%2Fn2t.net%2Fark%3A%2F99152%2Fp0fp7wvjvn8&flyout=True"
     ]
    }
   ],
   "source": [
    "r = p_recon.preview_period('http://n2t.net/ark:/99152/p0fp7wvjvn8', flyout=True)"
   ]
  },
  {
   "cell_type": "code",
   "execution_count": null,
   "metadata": {},
   "outputs": [],
   "source": [
    "RProperty('location', 'Ukraine')"
   ]
  },
  {
   "cell_type": "code",
   "execution_count": null,
   "metadata": {},
   "outputs": [],
   "source": []
  },
  {
   "cell_type": "code",
   "execution_count": null,
   "metadata": {},
   "outputs": [],
   "source": [
    "# a label is automatically created for RQuery if non is provided\n",
    "\n",
    "RQuery(\"bronze age\")"
   ]
  },
  {
   "cell_type": "code",
   "execution_count": null,
   "metadata": {},
   "outputs": [],
   "source": [
    "RQuery(\"bronze age\", label=\"limited-query\", limit=1)"
   ]
  },
  {
   "cell_type": "code",
   "execution_count": null,
   "metadata": {},
   "outputs": [],
   "source": [
    "RQuery(\"bronze age\", label=\"limited-query\")"
   ]
  },
  {
   "cell_type": "code",
   "execution_count": null,
   "metadata": {},
   "outputs": [],
   "source": [
    "RQuery(\"Ранньоримський\", label=\"additional-properties-query\", properties=[\n",
    "        RProperty('location', 'Ukraine'),\n",
    "        RProperty('start', 200),\n",
    "        RProperty('end', 600)\n",
    "    ])"
   ]
  },
  {
   "cell_type": "code",
   "execution_count": null,
   "metadata": {},
   "outputs": [],
   "source": [
    "q = RQuery(\"Ранньоримський\", label=\"additional-properties-query\", properties=[\n",
    "        RProperty('location', 'Ukraine'),\n",
    "        RProperty('start', 200),\n",
    "        RProperty('end', 600)\n",
    "    ])"
   ]
  },
  {
   "cell_type": "code",
   "execution_count": null,
   "metadata": {},
   "outputs": [],
   "source": [
    "repr(q)"
   ]
  },
  {
   "cell_type": "markdown",
   "metadata": {
    "collapsed": true
   },
   "source": [
    "# PKAP: comparing \"Late Roman\" vs \"Roman, Late\""
   ]
  },
  {
   "cell_type": "code",
   "execution_count": 17,
   "metadata": {},
   "outputs": [
    {
     "data": {
      "text/plain": [
       "[RQuery(\"Late Roman\", label=\"PKAP Late Roman\", properties=[RProperty(\"location\", \"Cyprus\"),\n",
       " RProperty(\"start\", 300),\n",
       " RProperty(\"end\", 749)]),\n",
       " RQuery(\"Roman, Late\", label=\"PKAP Roman, Late\", properties=[RProperty(\"location\", \"Cyprus\"),\n",
       " RProperty(\"start\", 300),\n",
       " RProperty(\"end\", 749)])]"
      ]
     },
     "execution_count": 17,
     "metadata": {},
     "output_type": "execute_result"
    }
   ],
   "source": [
    "queries = [\n",
    "\n",
    "    RQuery(\"Late Roman\", label=\"PKAP Late Roman\", properties=[\n",
    "        RProperty('location', 'Cyprus'),\n",
    "        RProperty('start', 300),\n",
    "        RProperty('end', 749)\n",
    "    ]), \n",
    "    RQuery(\"Roman, Late\", label=\"PKAP Roman, Late\",  properties=[\n",
    "        RProperty('location', 'Cyprus'),\n",
    "        RProperty('start', 300),\n",
    "        RProperty('end', 749)\n",
    "    ]),    \n",
    "\n",
    "]\n",
    "\n",
    "queries"
   ]
  },
  {
   "cell_type": "code",
   "execution_count": 18,
   "metadata": {},
   "outputs": [
    {
     "data": {
      "text/plain": [
       "{'PKAP Late Roman': {'result': []}, 'PKAP Roman, Late': {'result': []}}"
      ]
     },
     "execution_count": 18,
     "metadata": {},
     "output_type": "execute_result"
    }
   ],
   "source": [
    "r = p_recon.reconcile(queries, method='post')\n",
    "r"
   ]
  },
  {
   "cell_type": "markdown",
   "metadata": {
    "collapsed": true
   },
   "source": [
    "Conclusion: \"Roman, Late\" brings up no results whereas \"Late Roman\" brings up many results."
   ]
  },
  {
   "cell_type": "code",
   "execution_count": null,
   "metadata": {},
   "outputs": [],
   "source": []
  }
 ],
 "metadata": {
  "kernelspec": {
   "display_name": "Python 3",
   "language": "python",
   "name": "python3"
  },
  "language_info": {
   "codemirror_mode": {
    "name": "ipython",
    "version": 3
   },
   "file_extension": ".py",
   "mimetype": "text/x-python",
   "name": "python",
   "nbconvert_exporter": "python",
   "pygments_lexer": "ipython3",
   "version": "3.6.8"
  }
 },
 "nbformat": 4,
 "nbformat_minor": 2
}
