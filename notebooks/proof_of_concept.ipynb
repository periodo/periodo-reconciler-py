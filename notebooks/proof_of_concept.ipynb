{
 "cells": [
  {
   "cell_type": "markdown",
   "metadata": {},
   "source": [
    "[periodo-reconciler/API.md at master · periodo/periodo-reconciler](https://github.com/periodo/periodo-reconciler/blob/master/API.md)"
   ]
  },
  {
   "cell_type": "code",
   "execution_count": null,
   "metadata": {
    "collapsed": true
   },
   "outputs": [],
   "source": [
    "import requests\n",
    "import json\n",
    "import uuid\n",
    "from collections import OrderedDict\n",
    "import urllib.parse"
   ]
  },
  {
   "cell_type": "code",
   "execution_count": null,
   "metadata": {
    "collapsed": true
   },
   "outputs": [],
   "source": [
    "from periodo_reconciler import (\n",
    "    RProperty,\n",
    "    RQuery,\n",
    "    PeriodoReconciler\n",
    ")"
   ]
  },
  {
   "cell_type": "code",
   "execution_count": null,
   "metadata": {},
   "outputs": [],
   "source": [
    "p_recon = PeriodoReconciler(host='localhost:8142')\n",
    "p_recon"
   ]
  },
  {
   "cell_type": "code",
   "execution_count": null,
   "metadata": {},
   "outputs": [],
   "source": [
    "set(p_recon.describe().keys())"
   ]
  },
  {
   "cell_type": "markdown",
   "metadata": {},
   "source": [
    "# Reconcile period names \n"
   ]
  },
  {
   "cell_type": "code",
   "execution_count": null,
   "metadata": {},
   "outputs": [],
   "source": [
    "q = \"\"\"\n",
    "{\n",
    "  \"basic-query\": {\n",
    "    \"query\": \"北宋\"\n",
    "  },\n",
    "  \"limited-query\": {\n",
    "    \"query\": \"bronze age\",\n",
    "    \"limit\": 1\n",
    "  },\n",
    "  \"additional-properties-query\": {\n",
    "    \"query\": \"Ранньоримський\",\n",
    "    \"properties\": [\n",
    "      {\n",
    "        \"p\": \"location\",\n",
    "        \"v\": \"Ukraine\"\n",
    "      },\n",
    "      {\n",
    "        \"p\": \"start\",\n",
    "        \"v\": \"200\"\n",
    "      },\n",
    "      {\n",
    "        \"p\": \"stop\",\n",
    "        \"v\": \"600\"\n",
    "      }\n",
    "    ]\n",
    "  }\n",
    "}\n",
    "\n",
    "\"\"\".strip()\n",
    "\n",
    "json.loads(q)"
   ]
  },
  {
   "cell_type": "code",
   "execution_count": null,
   "metadata": {},
   "outputs": [],
   "source": [
    "r = requests.get('http://localhost:8142', params={'queries':q})\n",
    "r.json()"
   ]
  },
  {
   "cell_type": "code",
   "execution_count": null,
   "metadata": {},
   "outputs": [],
   "source": [
    "queries = [\n",
    "    RQuery(\"北宋\", label=\"basic-query\"),\n",
    "    RQuery(\"bronze age\", label=\"limited-query\", limit=1),\n",
    "    RQuery(\"Ранньоримський\", label=\"additional-properties-query\", properties=[\n",
    "        RProperty('location', 'Ukraine'),\n",
    "        RProperty('start', 200),\n",
    "        RProperty('end', 600)\n",
    "    ])\n",
    "]\n",
    "\n",
    "queries"
   ]
  },
  {
   "cell_type": "code",
   "execution_count": null,
   "metadata": {
    "collapsed": true
   },
   "outputs": [],
   "source": [
    "r = p_recon.reconcile(queries, method='post')"
   ]
  },
  {
   "cell_type": "code",
   "execution_count": null,
   "metadata": {},
   "outputs": [],
   "source": [
    "result = p_recon.suggest_properties()\n",
    "result"
   ]
  },
  {
   "cell_type": "code",
   "execution_count": null,
   "metadata": {},
   "outputs": [],
   "source": [
    "type(result)"
   ]
  },
  {
   "cell_type": "code",
   "execution_count": null,
   "metadata": {},
   "outputs": [],
   "source": [
    "p_recon.suggest_entities('bashkekohore')"
   ]
  },
  {
   "cell_type": "code",
   "execution_count": null,
   "metadata": {},
   "outputs": [],
   "source": [
    "p_recon.preview_period('http://n2t.net/ark:/99152/p0fp7wvjvn8')"
   ]
  },
  {
   "cell_type": "code",
   "execution_count": null,
   "metadata": {
    "collapsed": true
   },
   "outputs": [],
   "source": [
    "r = p_recon.preview_period('http://n2t.net/ark:/99152/p0fp7wvjvn8', flyout=True)"
   ]
  },
  {
   "cell_type": "code",
   "execution_count": null,
   "metadata": {},
   "outputs": [],
   "source": [
    "RProperty('location', 'Ukraine')"
   ]
  },
  {
   "cell_type": "code",
   "execution_count": null,
   "metadata": {},
   "outputs": [],
   "source": [
    "RQuery(\"bronze age\")"
   ]
  },
  {
   "cell_type": "code",
   "execution_count": null,
   "metadata": {},
   "outputs": [],
   "source": [
    "RQuery(\"bronze age\", label=\"limited-query\", limit=1)"
   ]
  },
  {
   "cell_type": "code",
   "execution_count": null,
   "metadata": {},
   "outputs": [],
   "source": [
    "RQuery(\"bronze age\", label=\"limited-query\")"
   ]
  },
  {
   "cell_type": "code",
   "execution_count": null,
   "metadata": {},
   "outputs": [],
   "source": [
    "RQuery(\"Ранньоримський\", label=\"additional-properties-query\", properties=[\n",
    "        RProperty('location', 'Ukraine'),\n",
    "        RProperty('start', 200),\n",
    "        RProperty('end', 600)\n",
    "    ])"
   ]
  },
  {
   "cell_type": "code",
   "execution_count": null,
   "metadata": {
    "collapsed": true
   },
   "outputs": [],
   "source": [
    "q = RQuery(\"Ранньоримський\", label=\"additional-properties-query\", properties=[\n",
    "        RProperty('location', 'Ukraine'),\n",
    "        RProperty('start', 200),\n",
    "        RProperty('end', 600)\n",
    "    ])"
   ]
  },
  {
   "cell_type": "code",
   "execution_count": null,
   "metadata": {},
   "outputs": [],
   "source": [
    "repr(q)"
   ]
  },
  {
   "cell_type": "code",
   "execution_count": null,
   "metadata": {
    "collapsed": true
   },
   "outputs": [],
   "source": []
  }
 ],
 "metadata": {
  "kernelspec": {
   "display_name": "Python 3",
   "language": "python",
   "name": "python3"
  },
  "language_info": {
   "codemirror_mode": {
    "name": "ipython",
    "version": 3
   },
   "file_extension": ".py",
   "mimetype": "text/x-python",
   "name": "python",
   "nbconvert_exporter": "python",
   "pygments_lexer": "ipython3",
   "version": "3.6.2"
  }
 },
 "nbformat": 4,
 "nbformat_minor": 2
}
