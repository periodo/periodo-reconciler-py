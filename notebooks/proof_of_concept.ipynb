{
 "cells": [
  {
   "cell_type": "markdown",
   "metadata": {},
   "source": [
    "[periodo-reconciler/API.md at master · periodo/periodo-reconciler](https://github.com/periodo/periodo-reconciler/blob/master/API.md)"
   ]
  },
  {
   "cell_type": "code",
   "execution_count": 1,
   "metadata": {
    "collapsed": true
   },
   "outputs": [],
   "source": [
    "import requests\n",
    "import json\n",
    "import uuid\n",
    "from collections import OrderedDict\n",
    "import urllib.parse"
   ]
  },
  {
   "cell_type": "code",
   "execution_count": 2,
   "metadata": {
    "collapsed": true
   },
   "outputs": [],
   "source": [
    "from periodo_reconciler import (\n",
    "    RProperty,\n",
    "    RQuery,\n",
    "    PeriodoReconciler\n",
    ")"
   ]
  },
  {
   "cell_type": "code",
   "execution_count": 3,
   "metadata": {},
   "outputs": [
    {
     "data": {
      "text/plain": [
       "PeriodoReconciler(host=\"localhost:8142\", protocol=\"http\")"
      ]
     },
     "execution_count": 3,
     "metadata": {},
     "output_type": "execute_result"
    }
   ],
   "source": [
    "p_recon = PeriodoReconciler(host='localhost:8142')\n",
    "p_recon"
   ]
  },
  {
   "cell_type": "code",
   "execution_count": 4,
   "metadata": {},
   "outputs": [
    {
     "data": {
      "text/plain": [
       "{'defaultTypes',\n",
       " 'identifierSpace',\n",
       " 'name',\n",
       " 'preview',\n",
       " 'schemaSpace',\n",
       " 'suggest',\n",
       " 'view'}"
      ]
     },
     "execution_count": 4,
     "metadata": {},
     "output_type": "execute_result"
    }
   ],
   "source": [
    "set(p_recon.describe().keys())"
   ]
  },
  {
   "cell_type": "markdown",
   "metadata": {},
   "source": [
    "# Reconcile period names \n"
   ]
  },
  {
   "cell_type": "code",
   "execution_count": 5,
   "metadata": {},
   "outputs": [
    {
     "data": {
      "text/plain": [
       "{'additional-properties-query': {'properties': [{'p': 'location',\n",
       "    'v': 'Ukraine'},\n",
       "   {'p': 'start', 'v': '200'},\n",
       "   {'p': 'stop', 'v': '600'}],\n",
       "  'query': 'Ранньоримський'},\n",
       " 'basic-query': {'query': '北宋'},\n",
       " 'limited-query': {'limit': 1, 'query': 'bronze age'}}"
      ]
     },
     "execution_count": 5,
     "metadata": {},
     "output_type": "execute_result"
    }
   ],
   "source": [
    "q = \"\"\"\n",
    "{\n",
    "  \"basic-query\": {\n",
    "    \"query\": \"北宋\"\n",
    "  },\n",
    "  \"limited-query\": {\n",
    "    \"query\": \"bronze age\",\n",
    "    \"limit\": 1\n",
    "  },\n",
    "  \"additional-properties-query\": {\n",
    "    \"query\": \"Ранньоримський\",\n",
    "    \"properties\": [\n",
    "      {\n",
    "        \"p\": \"location\",\n",
    "        \"v\": \"Ukraine\"\n",
    "      },\n",
    "      {\n",
    "        \"p\": \"start\",\n",
    "        \"v\": \"200\"\n",
    "      },\n",
    "      {\n",
    "        \"p\": \"stop\",\n",
    "        \"v\": \"600\"\n",
    "      }\n",
    "    ]\n",
    "  }\n",
    "}\n",
    "\n",
    "\"\"\".strip()\n",
    "\n",
    "json.loads(q)"
   ]
  },
  {
   "cell_type": "code",
   "execution_count": 6,
   "metadata": {},
   "outputs": [
    {
     "data": {
      "text/plain": [
       "{'additional-properties-query': {'result': [{'id': 'http://n2t.net/ark:/99152/p06v8w4dbcf',\n",
       "    'match': True,\n",
       "    'name': 'Ранньоримський період [Ukraine, Ukraine: -0049 to 0175]',\n",
       "    'score': 0,\n",
       "    'type': [{'id': 'http://www.w3.org/2004/02/skos/core#Concept',\n",
       "      'name': 'Period definition'}]}]},\n",
       " 'basic-query': {'result': [{'id': 'http://n2t.net/ark:/99152/p0fp7wvjvn8',\n",
       "    'match': True,\n",
       "    'name': 'Northern Song [China, China: 0960 to 1127]',\n",
       "    'score': 0,\n",
       "    'type': [{'id': 'http://www.w3.org/2004/02/skos/core#Concept',\n",
       "      'name': 'Period definition'}]}]},\n",
       " 'limited-query': {'result': [{'id': 'http://n2t.net/ark:/99152/p0z3skmnss7',\n",
       "    'match': False,\n",
       "    'name': 'Bronze [Palestine, Israel, Jordan: -3299 to -1199]',\n",
       "    'score': 0,\n",
       "    'type': [{'id': 'http://www.w3.org/2004/02/skos/core#Concept',\n",
       "      'name': 'Period definition'}]}]}}"
      ]
     },
     "execution_count": 6,
     "metadata": {},
     "output_type": "execute_result"
    }
   ],
   "source": [
    "r = requests.get('http://localhost:8142', params={'queries':q})\n",
    "r.json()"
   ]
  },
  {
   "cell_type": "code",
   "execution_count": 7,
   "metadata": {},
   "outputs": [
    {
     "data": {
      "text/plain": [
       "[RQuery(\"\\u5317\\u5b8b\", label=\"basic-query\"),\n",
       " RQuery(\"bronze age\", label=\"limited-query\", limit=1),\n",
       " RQuery(\"\\u0420\\u0430\\u043d\\u043d\\u044c\\u043e\\u0440\\u0438\\u043c\\u0441\\u044c\\u043a\\u0438\\u0439\", label=\"additional-properties-query\", properties=[RProperty(\"location\", \"Ukraine\"),\n",
       " RProperty(\"start\", 200),\n",
       " RProperty(\"end\", 600)])]"
      ]
     },
     "execution_count": 7,
     "metadata": {},
     "output_type": "execute_result"
    }
   ],
   "source": [
    "queries = [\n",
    "    RQuery(\"北宋\", label=\"basic-query\"),\n",
    "    RQuery(\"bronze age\", label=\"limited-query\", limit=1),\n",
    "    RQuery(\"Ранньоримський\", label=\"additional-properties-query\", properties=[\n",
    "        RProperty('location', 'Ukraine'),\n",
    "        RProperty('start', 200),\n",
    "        RProperty('end', 600)\n",
    "    ])\n",
    "]\n",
    "\n",
    "queries"
   ]
  },
  {
   "cell_type": "code",
   "execution_count": 8,
   "metadata": {
    "collapsed": true
   },
   "outputs": [],
   "source": [
    "r = p_recon.reconcile(queries, method='post')"
   ]
  },
  {
   "cell_type": "code",
   "execution_count": 9,
   "metadata": {},
   "outputs": [
    {
     "data": {
      "text/plain": [
       "[{'id': 'location', 'name': 'Spatial coverage'},\n",
       " {'id': 'start', 'name': 'Year or start year'},\n",
       " {'id': 'stop', 'name': 'End year'}]"
      ]
     },
     "execution_count": 9,
     "metadata": {},
     "output_type": "execute_result"
    }
   ],
   "source": [
    "result = p_recon.suggest_properties()\n",
    "result"
   ]
  },
  {
   "cell_type": "code",
   "execution_count": 10,
   "metadata": {},
   "outputs": [
    {
     "data": {
      "text/plain": [
       "list"
      ]
     },
     "execution_count": 10,
     "metadata": {},
     "output_type": "execute_result"
    }
   ],
   "source": [
    "type(result)"
   ]
  },
  {
   "cell_type": "code",
   "execution_count": 11,
   "metadata": {},
   "outputs": [
    {
     "data": {
      "text/plain": [
       "[{'id': 'http://n2t.net/ark:/99152/p06v8w4nfqg',\n",
       "  'match': False,\n",
       "  'name': 'Bashkëkohore [Albania, Albania: 1944 to 2000]',\n",
       "  'score': 0,\n",
       "  'type': [{'id': 'http://www.w3.org/2004/02/skos/core#Concept',\n",
       "    'name': 'Period definition'}]},\n",
       " {'id': 'http://n2t.net/ark:/99152/p0qhb662s6j',\n",
       "  'match': False,\n",
       "  'name': 'Bashkëkohore [Albania, Albania: 1944 to 2000]',\n",
       "  'score': 0,\n",
       "  'type': [{'id': 'http://www.w3.org/2004/02/skos/core#Concept',\n",
       "    'name': 'Period definition'}]}]"
      ]
     },
     "execution_count": 11,
     "metadata": {},
     "output_type": "execute_result"
    }
   ],
   "source": [
    "p_recon.suggest_entities('bashkekohore')"
   ]
  },
  {
   "cell_type": "code",
   "execution_count": 12,
   "metadata": {},
   "outputs": [
    {
     "data": {
      "text/plain": [
       "b'<!doctype html><html><body bgcolor=\"white\">\\n    <style>\\n      dl {\\n        font-family: sans-serif;\\n        font-size: 13px !important;\\n        margin: 0.5em !important;\\n      }\\n      dh { color: #93a1a1 }\\n      dd {\\n        margin-bottom: 1em !important;\\n        margin-left: 1em !important;\\n      }\\n      p { margin: 0.5em 0; font-size: 13px !important; }\\n      a { color: #4272db; text-decoration: none }\\n    </style>\\n    <dl>\\n      <dh>Period</dh>\\n      <dd>\\n        <p><a target=\"_blank\" href=\"http://n2t.net/ark:/99152/p0fp7wvjvn8\">Northern Song</a></p>\\n        <p><i>Beisong, \\xe5\\x8c\\x97\\xe5\\xae\\x8b, \\xe5\\x8c\\x97\\xe5\\xae\\x8b</i></p>\\n      </dd>\\n\\n      <dh>Source</dh>\\n      <dd>\\n        <p>\\n          <a target=\"_blank\"\\n             href=\"http://n2t.net/ark:/99152/p0fp7wv\">Merrick Lex Berman. CHGIS: Major Chinese Periods Chronology. 2015.</a>\\n        </p>\\n        <p>\\n          <i>contains 52 period definitions</i>\\n        </p>\\n      </dd>\\n\\n      <dh>Earliest start</dh>\\n      <dd>\\n        <p>960</p>\\n        <p><i>ISO year 960</i></p>\\n      </dd>\\n\\n      <dh>Latest stop</dh>\\n      <dd>\\n        <p>1127</p>\\n        <p><i>ISO year 1127</i></p>\\n      </dd>\\n\\n      <dh>Spatial coverage</dh>\\n      <dd>\\n        <p>China</p>\\n        <p><i>China</i></p>\\n        </p>\\n      </dd>\\n    </dl>\\n  '"
      ]
     },
     "execution_count": 12,
     "metadata": {},
     "output_type": "execute_result"
    }
   ],
   "source": [
    "p_recon.preview_period('http://n2t.net/ark:/99152/p0fp7wvjvn8')"
   ]
  },
  {
   "cell_type": "code",
   "execution_count": 13,
   "metadata": {
    "collapsed": true
   },
   "outputs": [],
   "source": [
    "r = p_recon.preview_period('http://n2t.net/ark:/99152/p0fp7wvjvn8', flyout=True)"
   ]
  },
  {
   "cell_type": "code",
   "execution_count": 14,
   "metadata": {},
   "outputs": [
    {
     "data": {
      "text/plain": [
       "RProperty(\"location\", \"Ukraine\")"
      ]
     },
     "execution_count": 14,
     "metadata": {},
     "output_type": "execute_result"
    }
   ],
   "source": [
    "RProperty('location', 'Ukraine')"
   ]
  },
  {
   "cell_type": "code",
   "execution_count": 15,
   "metadata": {},
   "outputs": [
    {
     "data": {
      "text/plain": [
       "RQuery(\"bronze age\", label=\"06558a73-ae64-436a-8609-1d151234958b\")"
      ]
     },
     "execution_count": 15,
     "metadata": {},
     "output_type": "execute_result"
    }
   ],
   "source": [
    "RQuery(\"bronze age\")"
   ]
  },
  {
   "cell_type": "code",
   "execution_count": 16,
   "metadata": {},
   "outputs": [
    {
     "data": {
      "text/plain": [
       "RQuery(\"bronze age\", label=\"limited-query\", limit=1)"
      ]
     },
     "execution_count": 16,
     "metadata": {},
     "output_type": "execute_result"
    }
   ],
   "source": [
    "RQuery(\"bronze age\", label=\"limited-query\", limit=1)"
   ]
  },
  {
   "cell_type": "code",
   "execution_count": 17,
   "metadata": {},
   "outputs": [
    {
     "data": {
      "text/plain": [
       "RQuery(\"bronze age\", label=\"limited-query\")"
      ]
     },
     "execution_count": 17,
     "metadata": {},
     "output_type": "execute_result"
    }
   ],
   "source": [
    "RQuery(\"bronze age\", label=\"limited-query\")"
   ]
  },
  {
   "cell_type": "code",
   "execution_count": 18,
   "metadata": {},
   "outputs": [
    {
     "data": {
      "text/plain": [
       "RQuery(\"\\u0420\\u0430\\u043d\\u043d\\u044c\\u043e\\u0440\\u0438\\u043c\\u0441\\u044c\\u043a\\u0438\\u0439\", label=\"additional-properties-query\", properties=[RProperty(\"location\", \"Ukraine\"),\n",
       "RProperty(\"start\", 200),\n",
       "RProperty(\"end\", 600)])"
      ]
     },
     "execution_count": 18,
     "metadata": {},
     "output_type": "execute_result"
    }
   ],
   "source": [
    "RQuery(\"Ранньоримський\", label=\"additional-properties-query\", properties=[\n",
    "        RProperty('location', 'Ukraine'),\n",
    "        RProperty('start', 200),\n",
    "        RProperty('end', 600)\n",
    "    ])"
   ]
  },
  {
   "cell_type": "code",
   "execution_count": 19,
   "metadata": {
    "collapsed": true
   },
   "outputs": [],
   "source": [
    "q = RQuery(\"Ранньоримський\", label=\"additional-properties-query\", properties=[\n",
    "        RProperty('location', 'Ukraine'),\n",
    "        RProperty('start', 200),\n",
    "        RProperty('end', 600)\n",
    "    ])"
   ]
  },
  {
   "cell_type": "code",
   "execution_count": 20,
   "metadata": {},
   "outputs": [
    {
     "data": {
      "text/plain": [
       "'RQuery(\"\\\\u0420\\\\u0430\\\\u043d\\\\u043d\\\\u044c\\\\u043e\\\\u0440\\\\u0438\\\\u043c\\\\u0441\\\\u044c\\\\u043a\\\\u0438\\\\u0439\", label=\"additional-properties-query\", properties=[RProperty(\"location\", \"Ukraine\"),\\nRProperty(\"start\", 200),\\nRProperty(\"end\", 600)])'"
      ]
     },
     "execution_count": 20,
     "metadata": {},
     "output_type": "execute_result"
    }
   ],
   "source": [
    "repr(q)"
   ]
  },
  {
   "cell_type": "markdown",
   "metadata": {
    "collapsed": true
   },
   "source": [
    "# PKAP"
   ]
  },
  {
   "cell_type": "code",
   "execution_count": 21,
   "metadata": {},
   "outputs": [
    {
     "data": {
      "text/plain": [
       "[RQuery(\"Late Roman\", label=\"PKAP Late Roman\", properties=[RProperty(\"location\", \"Cyprus\"),\n",
       " RProperty(\"start\", 300),\n",
       " RProperty(\"end\", 749)]),\n",
       " RQuery(\"Roman, Late\", label=\"PKAP Roman, Late\", properties=[RProperty(\"location\", \"Cyprus\"),\n",
       " RProperty(\"start\", 300),\n",
       " RProperty(\"end\", 749)])]"
      ]
     },
     "execution_count": 21,
     "metadata": {},
     "output_type": "execute_result"
    }
   ],
   "source": [
    "queries = [\n",
    "\n",
    "    RQuery(\"Late Roman\", label=\"PKAP Late Roman\", properties=[\n",
    "        RProperty('location', 'Cyprus'),\n",
    "        RProperty('start', 300),\n",
    "        RProperty('end', 749)\n",
    "    ]), \n",
    "    RQuery(\"Roman, Late\", label=\"PKAP Roman, Late\",  properties=[\n",
    "        RProperty('location', 'Cyprus'),\n",
    "        RProperty('start', 300),\n",
    "        RProperty('end', 749)\n",
    "    ]),    \n",
    "\n",
    "]\n",
    "\n",
    "queries"
   ]
  },
  {
   "cell_type": "code",
   "execution_count": 22,
   "metadata": {},
   "outputs": [
    {
     "data": {
      "text/plain": [
       "{'PKAP Late Roman': {'result': [{'id': 'http://n2t.net/ark:/99152/p0dg76fbqff',\n",
       "    'match': True,\n",
       "    'name': 'Late Roman [Cyprus, Cyprus: 0300 to 0749]',\n",
       "    'score': 0,\n",
       "    'type': [{'id': 'http://www.w3.org/2004/02/skos/core#Concept',\n",
       "      'name': 'Period definition'}]}]},\n",
       " 'PKAP Roman, Late': {'result': []}}"
      ]
     },
     "execution_count": 22,
     "metadata": {},
     "output_type": "execute_result"
    }
   ],
   "source": [
    "r = p_recon.reconcile(queries, method='post')\n",
    "r"
   ]
  },
  {
   "cell_type": "markdown",
   "metadata": {
    "collapsed": true
   },
   "source": [
    "Conclusion: \"Roman, Late\" brings up no results whereas \"Late Roman\" brings up many results."
   ]
  },
  {
   "cell_type": "code",
   "execution_count": null,
   "metadata": {
    "collapsed": true
   },
   "outputs": [],
   "source": []
  }
 ],
 "metadata": {
  "kernelspec": {
   "display_name": "Python 3",
   "language": "python",
   "name": "python3"
  },
  "language_info": {
   "codemirror_mode": {
    "name": "ipython",
    "version": 3
   },
   "file_extension": ".py",
   "mimetype": "text/x-python",
   "name": "python",
   "nbconvert_exporter": "python",
   "pygments_lexer": "ipython3",
   "version": "3.6.8"
  }
 },
 "nbformat": 4,
 "nbformat_minor": 2
}
